{
 "cells": [
  {
   "cell_type": "code",
   "execution_count": 1,
   "id": "33abe82f",
   "metadata": {},
   "outputs": [],
   "source": [
    "import sys\n",
    "import os\n",
    "\n",
    "sys.path.append(os.path.abspath(\"..\"))  # Move one level up to 'project_root'\n",
    "from scripts.utilities import *\n",
    "\n",
    "import pandas as pd\n",
    "import numpy as np\n",
    "from linearmodels.panel import PanelOLS\n",
    "import statsmodels.api as sm\n",
    "from statsmodels.stats.anova import anova_lm\n",
    "import plotly.graph_objects as go\n",
    "from statsmodels.tsa.stattools import adfuller\n",
    "from matplotlib import pyplot as plt\n",
    "from scipy.optimize import curve_fit\n",
    "import scipy.stats as stats\n",
    "import scipy.optimize as opt"
   ]
  },
  {
   "cell_type": "markdown",
   "id": "a3222675",
   "metadata": {},
   "source": [
    "### Evolution of Return Estimates: Mean and Variance Convergence for Newly Listed Stocks and ETFs"
   ]
  },
  {
   "cell_type": "code",
   "execution_count": 2,
   "id": "e9dd7e65",
   "metadata": {},
   "outputs": [
    {
     "data": {
      "text/html": [
       "<div>\n",
       "<style scoped>\n",
       "    .dataframe tbody tr th:only-of-type {\n",
       "        vertical-align: middle;\n",
       "    }\n",
       "\n",
       "    .dataframe tbody tr th {\n",
       "        vertical-align: top;\n",
       "    }\n",
       "\n",
       "    .dataframe thead th {\n",
       "        text-align: right;\n",
       "    }\n",
       "</style>\n",
       "<table border=\"1\" class=\"dataframe\">\n",
       "  <thead>\n",
       "    <tr style=\"text-align: right;\">\n",
       "      <th></th>\n",
       "      <th>INCR</th>\n",
       "      <th>EURN</th>\n",
       "      <th>NRP</th>\n",
       "      <th>AUB</th>\n",
       "      <th>ROIV</th>\n",
       "      <th>RBA</th>\n",
       "      <th>SBGI</th>\n",
       "      <th>EBON</th>\n",
       "      <th>JCTCF</th>\n",
       "      <th>EXAS</th>\n",
       "      <th>...</th>\n",
       "      <th>PFC</th>\n",
       "      <th>GM</th>\n",
       "      <th>BOTJ</th>\n",
       "      <th>GROV</th>\n",
       "      <th>DRH</th>\n",
       "      <th>ODD</th>\n",
       "      <th>SITM</th>\n",
       "      <th>CPBI</th>\n",
       "      <th>VRTS</th>\n",
       "      <th>TEL</th>\n",
       "    </tr>\n",
       "  </thead>\n",
       "  <tbody>\n",
       "    <tr>\n",
       "      <th>1</th>\n",
       "      <td>NaN</td>\n",
       "      <td>NaN</td>\n",
       "      <td>NaN</td>\n",
       "      <td>NaN</td>\n",
       "      <td>NaN</td>\n",
       "      <td>NaN</td>\n",
       "      <td>NaN</td>\n",
       "      <td>NaN</td>\n",
       "      <td>NaN</td>\n",
       "      <td>NaN</td>\n",
       "      <td>...</td>\n",
       "      <td>NaN</td>\n",
       "      <td>NaN</td>\n",
       "      <td>NaN</td>\n",
       "      <td>NaN</td>\n",
       "      <td>NaN</td>\n",
       "      <td>NaN</td>\n",
       "      <td>NaN</td>\n",
       "      <td>NaN</td>\n",
       "      <td>NaN</td>\n",
       "      <td>NaN</td>\n",
       "    </tr>\n",
       "    <tr>\n",
       "      <th>2</th>\n",
       "      <td>0.358566</td>\n",
       "      <td>0.009836</td>\n",
       "      <td>0.010309</td>\n",
       "      <td>0.100001</td>\n",
       "      <td>-0.042308</td>\n",
       "      <td>0.020711</td>\n",
       "      <td>-0.020725</td>\n",
       "      <td>-0.100000</td>\n",
       "      <td>0.000000</td>\n",
       "      <td>-0.041667</td>\n",
       "      <td>...</td>\n",
       "      <td>0.000000</td>\n",
       "      <td>0.002048</td>\n",
       "      <td>0.000000</td>\n",
       "      <td>0.015228</td>\n",
       "      <td>0.075472</td>\n",
       "      <td>0.051967</td>\n",
       "      <td>0.434615</td>\n",
       "      <td>-0.005495</td>\n",
       "      <td>-0.160952</td>\n",
       "      <td>-0.001287</td>\n",
       "    </tr>\n",
       "    <tr>\n",
       "      <th>3</th>\n",
       "      <td>-0.120235</td>\n",
       "      <td>-0.017857</td>\n",
       "      <td>-0.002551</td>\n",
       "      <td>-0.011364</td>\n",
       "      <td>-0.006024</td>\n",
       "      <td>0.037681</td>\n",
       "      <td>0.005291</td>\n",
       "      <td>0.051111</td>\n",
       "      <td>-0.031250</td>\n",
       "      <td>-0.021739</td>\n",
       "      <td>...</td>\n",
       "      <td>0.009091</td>\n",
       "      <td>-0.005254</td>\n",
       "      <td>0.000000</td>\n",
       "      <td>-0.015100</td>\n",
       "      <td>-0.017544</td>\n",
       "      <td>0.051200</td>\n",
       "      <td>-0.032172</td>\n",
       "      <td>0.000000</td>\n",
       "      <td>0.349603</td>\n",
       "      <td>-0.042525</td>\n",
       "    </tr>\n",
       "    <tr>\n",
       "      <th>4</th>\n",
       "      <td>-0.033333</td>\n",
       "      <td>0.016529</td>\n",
       "      <td>-0.025576</td>\n",
       "      <td>0.057472</td>\n",
       "      <td>0.001919</td>\n",
       "      <td>-0.027933</td>\n",
       "      <td>0.010526</td>\n",
       "      <td>-0.160677</td>\n",
       "      <td>0.000000</td>\n",
       "      <td>-0.004444</td>\n",
       "      <td>...</td>\n",
       "      <td>-0.009009</td>\n",
       "      <td>-0.024355</td>\n",
       "      <td>0.000000</td>\n",
       "      <td>0.000000</td>\n",
       "      <td>0.000000</td>\n",
       "      <td>-0.054985</td>\n",
       "      <td>-0.049861</td>\n",
       "      <td>0.002210</td>\n",
       "      <td>-0.138772</td>\n",
       "      <td>-0.012113</td>\n",
       "    </tr>\n",
       "    <tr>\n",
       "      <th>5</th>\n",
       "      <td>0.000000</td>\n",
       "      <td>-0.051219</td>\n",
       "      <td>0.004725</td>\n",
       "      <td>0.000000</td>\n",
       "      <td>0.008166</td>\n",
       "      <td>0.048850</td>\n",
       "      <td>-0.020833</td>\n",
       "      <td>0.100756</td>\n",
       "      <td>0.032258</td>\n",
       "      <td>0.000000</td>\n",
       "      <td>...</td>\n",
       "      <td>0.018182</td>\n",
       "      <td>0.006918</td>\n",
       "      <td>0.090909</td>\n",
       "      <td>0.000000</td>\n",
       "      <td>-0.013393</td>\n",
       "      <td>-0.027783</td>\n",
       "      <td>-0.008163</td>\n",
       "      <td>-0.007718</td>\n",
       "      <td>-0.032227</td>\n",
       "      <td>-0.020436</td>\n",
       "    </tr>\n",
       "    <tr>\n",
       "      <th>...</th>\n",
       "      <td>...</td>\n",
       "      <td>...</td>\n",
       "      <td>...</td>\n",
       "      <td>...</td>\n",
       "      <td>...</td>\n",
       "      <td>...</td>\n",
       "      <td>...</td>\n",
       "      <td>...</td>\n",
       "      <td>...</td>\n",
       "      <td>...</td>\n",
       "      <td>...</td>\n",
       "      <td>...</td>\n",
       "      <td>...</td>\n",
       "      <td>...</td>\n",
       "      <td>...</td>\n",
       "      <td>...</td>\n",
       "      <td>...</td>\n",
       "      <td>...</td>\n",
       "      <td>...</td>\n",
       "      <td>...</td>\n",
       "      <td>...</td>\n",
       "    </tr>\n",
       "    <tr>\n",
       "      <th>96</th>\n",
       "      <td>0.000000</td>\n",
       "      <td>0.004008</td>\n",
       "      <td>0.004349</td>\n",
       "      <td>-0.062761</td>\n",
       "      <td>0.000000</td>\n",
       "      <td>-0.004386</td>\n",
       "      <td>-0.029126</td>\n",
       "      <td>-0.108508</td>\n",
       "      <td>0.000000</td>\n",
       "      <td>-0.015018</td>\n",
       "      <td>...</td>\n",
       "      <td>0.008849</td>\n",
       "      <td>0.000000</td>\n",
       "      <td>0.000000</td>\n",
       "      <td>0.001028</td>\n",
       "      <td>-0.009523</td>\n",
       "      <td>0.069542</td>\n",
       "      <td>-0.043127</td>\n",
       "      <td>0.000000</td>\n",
       "      <td>0.014706</td>\n",
       "      <td>0.020178</td>\n",
       "    </tr>\n",
       "    <tr>\n",
       "      <th>97</th>\n",
       "      <td>0.000000</td>\n",
       "      <td>-0.015968</td>\n",
       "      <td>0.004764</td>\n",
       "      <td>0.017857</td>\n",
       "      <td>0.001019</td>\n",
       "      <td>-0.030837</td>\n",
       "      <td>0.015000</td>\n",
       "      <td>0.098202</td>\n",
       "      <td>0.000000</td>\n",
       "      <td>0.125561</td>\n",
       "      <td>...</td>\n",
       "      <td>-0.052632</td>\n",
       "      <td>-0.017037</td>\n",
       "      <td>0.000000</td>\n",
       "      <td>0.001541</td>\n",
       "      <td>-0.012238</td>\n",
       "      <td>-0.021125</td>\n",
       "      <td>-0.012676</td>\n",
       "      <td>0.002927</td>\n",
       "      <td>-0.026465</td>\n",
       "      <td>0.018034</td>\n",
       "    </tr>\n",
       "    <tr>\n",
       "      <th>98</th>\n",
       "      <td>-0.150000</td>\n",
       "      <td>-0.002704</td>\n",
       "      <td>0.007759</td>\n",
       "      <td>-0.017543</td>\n",
       "      <td>0.000000</td>\n",
       "      <td>-0.031818</td>\n",
       "      <td>-0.044335</td>\n",
       "      <td>-0.080605</td>\n",
       "      <td>0.000000</td>\n",
       "      <td>-0.066932</td>\n",
       "      <td>...</td>\n",
       "      <td>0.000000</td>\n",
       "      <td>-0.024451</td>\n",
       "      <td>0.000000</td>\n",
       "      <td>-0.004103</td>\n",
       "      <td>0.005309</td>\n",
       "      <td>-0.004765</td>\n",
       "      <td>-0.063718</td>\n",
       "      <td>-0.005837</td>\n",
       "      <td>-0.019417</td>\n",
       "      <td>0.019143</td>\n",
       "    </tr>\n",
       "    <tr>\n",
       "      <th>99</th>\n",
       "      <td>0.029412</td>\n",
       "      <td>-0.009492</td>\n",
       "      <td>-0.014115</td>\n",
       "      <td>0.071428</td>\n",
       "      <td>0.004073</td>\n",
       "      <td>-0.014084</td>\n",
       "      <td>0.000000</td>\n",
       "      <td>0.008219</td>\n",
       "      <td>0.000000</td>\n",
       "      <td>0.031597</td>\n",
       "      <td>...</td>\n",
       "      <td>-0.027778</td>\n",
       "      <td>-0.023794</td>\n",
       "      <td>-0.023809</td>\n",
       "      <td>0.001030</td>\n",
       "      <td>0.014965</td>\n",
       "      <td>0.063081</td>\n",
       "      <td>0.057389</td>\n",
       "      <td>0.001957</td>\n",
       "      <td>0.019142</td>\n",
       "      <td>-0.014017</td>\n",
       "    </tr>\n",
       "    <tr>\n",
       "      <th>100</th>\n",
       "      <td>0.142857</td>\n",
       "      <td>0.008898</td>\n",
       "      <td>0.019523</td>\n",
       "      <td>-0.066667</td>\n",
       "      <td>0.009128</td>\n",
       "      <td>0.009524</td>\n",
       "      <td>-0.041237</td>\n",
       "      <td>0.031250</td>\n",
       "      <td>0.000000</td>\n",
       "      <td>-0.002483</td>\n",
       "      <td>...</td>\n",
       "      <td>0.028572</td>\n",
       "      <td>0.012350</td>\n",
       "      <td>-0.024390</td>\n",
       "      <td>0.000000</td>\n",
       "      <td>0.007805</td>\n",
       "      <td>-0.001324</td>\n",
       "      <td>-0.039385</td>\n",
       "      <td>-0.002930</td>\n",
       "      <td>0.017487</td>\n",
       "      <td>0.005687</td>\n",
       "    </tr>\n",
       "  </tbody>\n",
       "</table>\n",
       "<p>100 rows × 5468 columns</p>\n",
       "</div>"
      ],
      "text/plain": [
       "         INCR      EURN       NRP       AUB      ROIV       RBA      SBGI  \\\n",
       "1         NaN       NaN       NaN       NaN       NaN       NaN       NaN   \n",
       "2    0.358566  0.009836  0.010309  0.100001 -0.042308  0.020711 -0.020725   \n",
       "3   -0.120235 -0.017857 -0.002551 -0.011364 -0.006024  0.037681  0.005291   \n",
       "4   -0.033333  0.016529 -0.025576  0.057472  0.001919 -0.027933  0.010526   \n",
       "5    0.000000 -0.051219  0.004725  0.000000  0.008166  0.048850 -0.020833   \n",
       "..        ...       ...       ...       ...       ...       ...       ...   \n",
       "96   0.000000  0.004008  0.004349 -0.062761  0.000000 -0.004386 -0.029126   \n",
       "97   0.000000 -0.015968  0.004764  0.017857  0.001019 -0.030837  0.015000   \n",
       "98  -0.150000 -0.002704  0.007759 -0.017543  0.000000 -0.031818 -0.044335   \n",
       "99   0.029412 -0.009492 -0.014115  0.071428  0.004073 -0.014084  0.000000   \n",
       "100  0.142857  0.008898  0.019523 -0.066667  0.009128  0.009524 -0.041237   \n",
       "\n",
       "         EBON     JCTCF      EXAS  ...       PFC        GM      BOTJ  \\\n",
       "1         NaN       NaN       NaN  ...       NaN       NaN       NaN   \n",
       "2   -0.100000  0.000000 -0.041667  ...  0.000000  0.002048  0.000000   \n",
       "3    0.051111 -0.031250 -0.021739  ...  0.009091 -0.005254  0.000000   \n",
       "4   -0.160677  0.000000 -0.004444  ... -0.009009 -0.024355  0.000000   \n",
       "5    0.100756  0.032258  0.000000  ...  0.018182  0.006918  0.090909   \n",
       "..        ...       ...       ...  ...       ...       ...       ...   \n",
       "96  -0.108508  0.000000 -0.015018  ...  0.008849  0.000000  0.000000   \n",
       "97   0.098202  0.000000  0.125561  ... -0.052632 -0.017037  0.000000   \n",
       "98  -0.080605  0.000000 -0.066932  ...  0.000000 -0.024451  0.000000   \n",
       "99   0.008219  0.000000  0.031597  ... -0.027778 -0.023794 -0.023809   \n",
       "100  0.031250  0.000000 -0.002483  ...  0.028572  0.012350 -0.024390   \n",
       "\n",
       "         GROV       DRH       ODD      SITM      CPBI      VRTS       TEL  \n",
       "1         NaN       NaN       NaN       NaN       NaN       NaN       NaN  \n",
       "2    0.015228  0.075472  0.051967  0.434615 -0.005495 -0.160952 -0.001287  \n",
       "3   -0.015100 -0.017544  0.051200 -0.032172  0.000000  0.349603 -0.042525  \n",
       "4    0.000000  0.000000 -0.054985 -0.049861  0.002210 -0.138772 -0.012113  \n",
       "5    0.000000 -0.013393 -0.027783 -0.008163 -0.007718 -0.032227 -0.020436  \n",
       "..        ...       ...       ...       ...       ...       ...       ...  \n",
       "96   0.001028 -0.009523  0.069542 -0.043127  0.000000  0.014706  0.020178  \n",
       "97   0.001541 -0.012238 -0.021125 -0.012676  0.002927 -0.026465  0.018034  \n",
       "98  -0.004103  0.005309 -0.004765 -0.063718 -0.005837 -0.019417  0.019143  \n",
       "99   0.001030  0.014965  0.063081  0.057389  0.001957  0.019142 -0.014017  \n",
       "100  0.000000  0.007805 -0.001324 -0.039385 -0.002930  0.017487  0.005687  \n",
       "\n",
       "[100 rows x 5468 columns]"
      ]
     },
     "execution_count": 2,
     "metadata": {},
     "output_type": "execute_result"
    }
   ],
   "source": [
    "R = pd.read_csv('../data/returns.csv', index_col=0).iloc[:100]\n",
    "R"
   ]
  },
  {
   "cell_type": "markdown",
   "id": "c11aa843",
   "metadata": {},
   "source": [
    "# Descriptive part"
   ]
  },
  {
   "cell_type": "code",
   "execution_count": 3,
   "id": "c35eae71",
   "metadata": {},
   "outputs": [
    {
     "data": {
      "text/html": [
       "<div>\n",
       "<style scoped>\n",
       "    .dataframe tbody tr th:only-of-type {\n",
       "        vertical-align: middle;\n",
       "    }\n",
       "\n",
       "    .dataframe tbody tr th {\n",
       "        vertical-align: top;\n",
       "    }\n",
       "\n",
       "    .dataframe thead th {\n",
       "        text-align: right;\n",
       "    }\n",
       "</style>\n",
       "<table border=\"1\" class=\"dataframe\">\n",
       "  <thead>\n",
       "    <tr style=\"text-align: right;\">\n",
       "      <th></th>\n",
       "      <th></th>\n",
       "      <th>ret</th>\n",
       "      <th>const</th>\n",
       "    </tr>\n",
       "    <tr>\n",
       "      <th>i</th>\n",
       "      <th>t</th>\n",
       "      <th></th>\n",
       "      <th></th>\n",
       "    </tr>\n",
       "  </thead>\n",
       "  <tbody>\n",
       "    <tr>\n",
       "      <th rowspan=\"5\" valign=\"top\">INCR</th>\n",
       "      <th>2</th>\n",
       "      <td>0.154050</td>\n",
       "      <td>1.0</td>\n",
       "    </tr>\n",
       "    <tr>\n",
       "      <th>3</th>\n",
       "      <td>-0.120235</td>\n",
       "      <td>1.0</td>\n",
       "    </tr>\n",
       "    <tr>\n",
       "      <th>4</th>\n",
       "      <td>-0.033333</td>\n",
       "      <td>1.0</td>\n",
       "    </tr>\n",
       "    <tr>\n",
       "      <th>5</th>\n",
       "      <td>0.000000</td>\n",
       "      <td>1.0</td>\n",
       "    </tr>\n",
       "    <tr>\n",
       "      <th>6</th>\n",
       "      <td>0.017241</td>\n",
       "      <td>1.0</td>\n",
       "    </tr>\n",
       "    <tr>\n",
       "      <th>...</th>\n",
       "      <th>...</th>\n",
       "      <td>...</td>\n",
       "      <td>...</td>\n",
       "    </tr>\n",
       "    <tr>\n",
       "      <th rowspan=\"5\" valign=\"top\">TEL</th>\n",
       "      <th>96</th>\n",
       "      <td>0.020178</td>\n",
       "      <td>1.0</td>\n",
       "    </tr>\n",
       "    <tr>\n",
       "      <th>97</th>\n",
       "      <td>0.018034</td>\n",
       "      <td>1.0</td>\n",
       "    </tr>\n",
       "    <tr>\n",
       "      <th>98</th>\n",
       "      <td>0.019143</td>\n",
       "      <td>1.0</td>\n",
       "    </tr>\n",
       "    <tr>\n",
       "      <th>99</th>\n",
       "      <td>-0.014017</td>\n",
       "      <td>1.0</td>\n",
       "    </tr>\n",
       "    <tr>\n",
       "      <th>100</th>\n",
       "      <td>0.005687</td>\n",
       "      <td>1.0</td>\n",
       "    </tr>\n",
       "  </tbody>\n",
       "</table>\n",
       "<p>541051 rows × 2 columns</p>\n",
       "</div>"
      ],
      "text/plain": [
       "               ret  const\n",
       "i    t                   \n",
       "INCR 2    0.154050    1.0\n",
       "     3   -0.120235    1.0\n",
       "     4   -0.033333    1.0\n",
       "     5    0.000000    1.0\n",
       "     6    0.017241    1.0\n",
       "...            ...    ...\n",
       "TEL  96   0.020178    1.0\n",
       "     97   0.018034    1.0\n",
       "     98   0.019143    1.0\n",
       "     99  -0.014017    1.0\n",
       "     100  0.005687    1.0\n",
       "\n",
       "[541051 rows x 2 columns]"
      ]
     },
     "execution_count": 3,
     "metadata": {},
     "output_type": "execute_result"
    }
   ],
   "source": [
    "# Melt the DataFrame to long format\n",
    "df = to_long_format(R)\n",
    "df"
   ]
  },
  {
   "cell_type": "markdown",
   "id": "bc7c9229",
   "metadata": {},
   "source": [
    "# Tests on mean\n",
    "\n",
    "### $ R_{it} = \\beta + \\lambda_i + \\gamma_t + u_{it} $ <- Fixed Effects model\n",
    "\n",
    "**1. Common intercept:**\n",
    "\n",
    "$$\n",
    "\\hat{\\beta} = \\bar{R}_{\\cdot\\cdot} = \\frac{1}{NT} \\sum_{i=1}^N \\sum_{t=1}^T R_{it}\n",
    "$$\n",
    "\n",
    "**2. Asset fixed effects:**\n",
    "\n",
    "$$\n",
    "\\hat{\\lambda}_i = \\bar{R}_{i\\cdot} - \\hat{\\beta}\n",
    "$$\n",
    "\n",
    "**3. Time fixed effects:**\n",
    "\n",
    "$$\n",
    "\\hat{\\gamma}_t = \\bar{R}_{\\cdot t} - \\hat{\\beta}\n",
    "$$\n",
    "\n",
    "Which is alternative to: $ \\hat{R}_{it} = \\hat{\\beta} + \\sum_{i=0}^{N}(\\hat{\\lambda}_i \\times D_i^{Asset}) + \\sum_{t=0}^{T}(\\hat{\\gamma}_t \\times D_t^{Time})$\n",
    "\n",
    "---\n",
    "\n",
    "\n",
    "$ H_0: \\gamma_1 = \\gamma_2 = \\dots = \\gamma_T = 0 $ \\\n",
    "$ H_a: \\exists \\gamma_t \\neq 0 $ \n",
    "\n",
    "$ F = \\frac{(RSS_r - RSS_u) / (df_r - df_u)}{s^2_{\\text{HC3}}} \\sim  \\chi^2(T, n -p)$ \n",
    "\n",
    "Let:\n",
    "$ \\hat{u}_{it} = R_{it} - \\hat{R}_{it}, \\quad h_{it} = \\text{leverage for observation } (i,t) $\n",
    "\n",
    "$\\hat{u}_{it,\\text{HC3}} = \\frac{\\hat{u}_{it}}{1 - h_{it}} $\n",
    "\n",
    "Then:\n",
    "$ s^2_{\\text{HC3}} = \\frac{1}{n - p} \\sum_{i,t} \\left( \\hat{u}_{it,\\text{HC3}} \\right)^2 $\n",
    "\n",
    "$ \\hat{R} = HR $ \\\n",
    "$ H = X (X'X)^{-1} X \\to  h_{it} = x_{it} (X'X)^{-1} x_{it} $\n"
   ]
  },
  {
   "cell_type": "markdown",
   "id": "664a93f1",
   "metadata": {},
   "source": [
    "First use Dummies approach to clearly calculate the significance of fixed effects under heteroskedasticity along time and asset (HC3 covariance estimation is used) \\\n",
    "Source: [MacKinnon, J. G. & White, H. (1985). “Some Heteroskedasticity‐Consistent Covariance Matrix Estimators with Improved Finite Sample Properties.” Journal of Econometrics, 29(3), 305–325.](https://www.econstor.eu/bitstream/10419/189084/1/qed_wp_0537.pdf)"
   ]
  },
  {
   "cell_type": "code",
   "execution_count": 4,
   "id": "6d741276",
   "metadata": {},
   "outputs": [
    {
     "name": "stdout",
     "output_type": "stream",
     "text": [
      "Baseline vs Entity-only:\n",
      "   df_resid         ssr  df_diff   ss_diff         F    Pr(>F)\n",
      "0   99999.0  152.228191      0.0       NaN       NaN       NaN\n",
      "1   98989.0  150.365288   1010.0  1.862904  1.214251  0.000003\n",
      "\n",
      "Entity-only vs Entity+Time:\n",
      "   df_resid         ssr  df_diff   ss_diff         F    Pr(>F)\n",
      "0   98989.0  150.365288      0.0       NaN       NaN       NaN\n",
      "1   98891.0  150.108892     98.0  0.256396  1.723595  0.000012\n",
      "\n",
      "All three models:\n",
      "   df_resid         ssr  df_diff   ss_diff         F    Pr(>F)\n",
      "0   99999.0  152.228191      0.0       NaN       NaN       NaN\n",
      "1   98989.0  150.365288   1010.0  1.862904  1.215121  0.000003\n",
      "2   98891.0  150.108892     98.0  0.256396  1.723595  0.000012\n",
      "\n",
      "R2: 0.013921858776226537 p-value: 8.683821487815363e-09\n"
     ]
    }
   ],
   "source": [
    "# Reset index so 'i' and 't' are columns\n",
    "df_dummy = df.reset_index()[:100000] ### Limit the F test to 100k rows\n",
    "\n",
    "# Make dummies\n",
    "A = pd.get_dummies(df_dummy['i'], prefix='A', drop_first=True).astype(float)\n",
    "T = pd.get_dummies(df_dummy['t'], prefix='T', drop_first=True).astype(float)\n",
    "\n",
    "# Baseline model: only constant\n",
    "X_base = df_dummy[['const']].astype(float)\n",
    "mod_base = sm.OLS(df_dummy['ret'].astype(float), X_base).fit()\n",
    "\n",
    "# Entity-only model\n",
    "X_ent = pd.concat([df_dummy[['const']], A], axis=1)\n",
    "mod_ent  = sm.OLS(df_dummy['ret'], X_ent).fit() \n",
    "\n",
    "# Entity + Time model\n",
    "X_enttime = pd.concat([df_dummy[['const']], A, T], axis=1)\n",
    "mod_enttime = sm.OLS(df_dummy['ret'], X_enttime).fit()\n",
    "\n",
    "# Compare baseline vs entity:\n",
    "print(\"Baseline vs Entity-only:\")\n",
    "print(anova_lm(mod_base, mod_ent, robust='hc3'))\n",
    "\n",
    "# Compare entity-only vs entity+time:\n",
    "print(\"\\nEntity-only vs Entity+Time:\")\n",
    "print(anova_lm(mod_ent, mod_enttime, robust='hc3'))\n",
    "\n",
    "# Or compare all three at once:\n",
    "print(\"\\nAll three models:\")\n",
    "print(anova_lm(mod_base, mod_ent, mod_enttime, robust='hc3'))\n",
    "\n",
    "print(\"\\nR2:\", mod_enttime.rsquared,\"p-value:\", mod_enttime.f_pvalue)"
   ]
  },
  {
   "cell_type": "markdown",
   "id": "874cddb4",
   "metadata": {},
   "source": [
    "Both time and asset effects are significant at 5% \\\n",
    "Further on use Demeaning approach"
   ]
  },
  {
   "cell_type": "code",
   "execution_count": 5,
   "id": "6a834897",
   "metadata": {},
   "outputs": [
    {
     "name": "stdout",
     "output_type": "stream",
     "text": [
      "0.01325572559383359\n"
     ]
    }
   ],
   "source": [
    "# Entity + Time model\n",
    "model = PanelOLS(df['ret'], df[['const']], entity_effects=True, time_effects=True).fit(cov_type=\"robust\")\n",
    "print(model.rsquared_inclusive)"
   ]
  },
  {
   "cell_type": "markdown",
   "id": "63b7f87f",
   "metadata": {},
   "source": [
    "Retrieve the time component ($\\gamma_t$)"
   ]
  },
  {
   "cell_type": "code",
   "execution_count": 6,
   "id": "aa1f235c",
   "metadata": {},
   "outputs": [
    {
     "data": {
      "text/plain": [
       "t\n",
       "2      0.000605\n",
       "3     -0.001007\n",
       "4     -0.002245\n",
       "5     -0.002611\n",
       "6     -0.002660\n",
       "         ...   \n",
       "96     0.000845\n",
       "97     0.000014\n",
       "98    -0.000104\n",
       "99    -0.000509\n",
       "100   -0.001455\n",
       "Name: estimated_effects, Length: 99, dtype: float64"
      ]
     },
     "execution_count": 6,
     "metadata": {},
     "output_type": "execute_result"
    }
   ],
   "source": [
    "gamma = model.estimated_effects.groupby('t').mean()['estimated_effects']\n",
    "gamma"
   ]
  },
  {
   "cell_type": "markdown",
   "id": "e01b0a88",
   "metadata": {},
   "source": [
    "Smooth gamma using Gaussian kernel regression"
   ]
  },
  {
   "cell_type": "markdown",
   "id": "e3e7a986",
   "metadata": {},
   "source": [
    "$$\n",
    "\\widehat f(x)\n",
    "= \\frac{\\displaystyle\\sum_{i=1}^n K_\\sigma(x, x_i)\\,y_i}\n",
    "       {\\displaystyle\\sum_{i=1}^n K_\\sigma(x, x_i)},\n",
    "\\quad\n",
    "K_\\sigma(x, x_i)\n",
    "= \\exp\\!\\biggl(-\\frac{(x - x_i)^2}{2\\sigma^2}\\biggr).\n",
    "$$"
   ]
  },
  {
   "cell_type": "code",
   "execution_count": 7,
   "id": "2b80fcef",
   "metadata": {},
   "outputs": [],
   "source": [
    "def gaus_kernel(x,xi,h):\n",
    "    return np.exp(-0.5*(x-xi)**2/h**2)\n",
    "\n",
    "def kd_regression(x, x_data, y_data, h):\n",
    "\n",
    "    k_h = gaus_kernel(x, x_data, h)\n",
    "    \n",
    "    numerator = np.dot(y_data, k_h)\n",
    "    denominator = np.sum(k_h)\n",
    "    return numerator/denominator\n",
    "\n",
    "# def exp_decay(x, A, k, C):\n",
    "#     return A * np.exp(-k * x) + C\n",
    "\n",
    "\n",
    "gamma_kernel = [kd_regression(ti, gamma.index, gamma.values, 5) for ti in gamma.index]\n",
    "gamma_kernel = pd.Series(gamma_kernel, index = gamma.index)\n",
    "\n",
    "# popt, pcov = curve_fit(exp_decay, gamma.index, gamma.values, p0=[1, 1, 1])\n",
    "# y_exp = exp_decay(gamma.index, *popt)\n"
   ]
  },
  {
   "cell_type": "code",
   "execution_count": 8,
   "id": "a126a8f3",
   "metadata": {},
   "outputs": [
    {
     "data": {
      "application/vnd.plotly.v1+json": {
       "config": {
        "plotlyServerURL": "https://plot.ly"
       },
       "data": [
        {
         "mode": "markers",
         "name": "Raw Gamma",
         "type": "scatter",
         "x": [
          2,
          3,
          4,
          5,
          6,
          7,
          8,
          9,
          10,
          11,
          12,
          13,
          14,
          15,
          16,
          17,
          18,
          19,
          20,
          21,
          22,
          23,
          24,
          25,
          26,
          27,
          28,
          29,
          30,
          31,
          32,
          33,
          34,
          35,
          36,
          37,
          38,
          39,
          40,
          41,
          42,
          43,
          44,
          45,
          46,
          47,
          48,
          49,
          50,
          51,
          52,
          53,
          54,
          55,
          56,
          57,
          58,
          59,
          60,
          61,
          62,
          63,
          64,
          65,
          66,
          67,
          68,
          69,
          70,
          71,
          72,
          73,
          74,
          75,
          76,
          77,
          78,
          79,
          80,
          81,
          82,
          83,
          84,
          85,
          86,
          87,
          88,
          89,
          90,
          91,
          92,
          93,
          94,
          95,
          96,
          97,
          98,
          99,
          100
         ],
         "y": [
          0.0006049483287018287,
          -0.0010070416847207172,
          -0.0022453395988639635,
          -0.002610650645486818,
          -0.002660200864488561,
          -0.0017600420102862845,
          -0.0001297235288112763,
          -0.0019672377736759212,
          0.0008074940111918902,
          0.0010827056063273549,
          0.000010625375391922073,
          0.0010886354868014738,
          -0.0003883528776477649,
          -0.0007786257657310047,
          0.0014637417016634309,
          0.0009121460798448785,
          0.002339357964895426,
          0.0011187501321869174,
          0.00020491125999855603,
          -0.00046444659102354036,
          -0.0005185790900787295,
          -0.0007270365888960085,
          0.0012483366788296915,
          0.00013522945493434513,
          0.0014827877143212401,
          0.0003780091852415573,
          0.0003054766015784824,
          0.0003433059738817145,
          -0.0008667748647409368,
          0.00023148140139927993,
          0.0008201387475089571,
          -0.00001744172225889529,
          0.0006142667601728768,
          0.0005501664140863068,
          -0.0008330848052351661,
          0.00025339168878524656,
          -0.00011634854827490775,
          0.0007108959756304143,
          -0.0010176783575588037,
          0.0004263251829328069,
          0.0007012618949418006,
          -0.0006548710452211156,
          0.000019723989855108017,
          -0.00037274026101691765,
          -0.00014908761100599317,
          0.0005658406231212992,
          0.00007814249537715326,
          0.0010524598324412819,
          -0.0003499797269702021,
          -0.0006954797140604905,
          -0.0015420153467541914,
          0.0010679036825183336,
          0.00015958418959525762,
          0.00012197762842495234,
          0.0005283099885761833,
          -0.0002880944051720335,
          -0.00004223199554906838,
          -0.00047129704944156317,
          -0.0006710472245714742,
          -0.0010583045071464524,
          -0.0008141275768128045,
          -0.0014644656723501474,
          -0.0008791054710090101,
          0.0006826977041024757,
          0.00016338055849913474,
          -0.0002475611541844741,
          -0.0016872614568404077,
          0.0009948530790823533,
          -0.00024066791618666074,
          0.0007176850277153721,
          0.0006146863177308662,
          0.0005098917737793075,
          0.00012846289491912598,
          -0.00009414857266012908,
          0.001216562386113529,
          -0.0005717270978445731,
          0.00010486795169567895,
          0.00050095143555835,
          0.0006327961935999467,
          -0.0008378629052978194,
          0.0008214600414517589,
          0.0003199018125003976,
          0.00008114128603301505,
          0.0003375479332724148,
          0.0012252634593547466,
          0.0005829180604343023,
          0.0003168678251061855,
          0.0003366361952268774,
          0.0006685813976018405,
          0.0001230737737780956,
          0.00048416529648751065,
          -0.00033185955266976883,
          0.00012022515656531567,
          -0.00032975234502352076,
          0.0008448827574951595,
          0.000014169080113005212,
          -0.00010446804319743439,
          -0.0005089542213822284,
          -0.001454630154990801
         ]
        },
        {
         "mode": "lines",
         "name": "Kernel Regression",
         "type": "scatter",
         "x": [
          2,
          3,
          4,
          5,
          6,
          7,
          8,
          9,
          10,
          11,
          12,
          13,
          14,
          15,
          16,
          17,
          18,
          19,
          20,
          21,
          22,
          23,
          24,
          25,
          26,
          27,
          28,
          29,
          30,
          31,
          32,
          33,
          34,
          35,
          36,
          37,
          38,
          39,
          40,
          41,
          42,
          43,
          44,
          45,
          46,
          47,
          48,
          49,
          50,
          51,
          52,
          53,
          54,
          55,
          56,
          57,
          58,
          59,
          60,
          61,
          62,
          63,
          64,
          65,
          66,
          67,
          68,
          69,
          70,
          71,
          72,
          73,
          74,
          75,
          76,
          77,
          78,
          79,
          80,
          81,
          82,
          83,
          84,
          85,
          86,
          87,
          88,
          89,
          90,
          91,
          92,
          93,
          94,
          95,
          96,
          97,
          98,
          99,
          100
         ],
         "y": [
          -0.0011661800609556706,
          -0.0011341160882492255,
          -0.0010817973526924148,
          -0.0010081414296292568,
          -0.0009131140731492215,
          -0.0007980147401832126,
          -0.0006656597105830759,
          -0.0005203921275576609,
          -0.0003678697026567277,
          -0.00021462582600514823,
          -0.00006745635570764272,
          0.00006726896531213958,
          0.00018425395961866106,
          0.00027978188406659114,
          0.0003520159044745541,
          0.00040106777891718077,
          0.0004288352909481305,
          0.00043862898402253646,
          0.0004346325314811233,
          0.00042127282528688396,
          0.00040260593504835943,
          0.00038183495950572065,
          0.0003610512257422232,
          0.0003412328603192344,
          0.0003224637089674825,
          0.00030427874548072284,
          0.00028602151748766184,
          0.00026711998230454295,
          0.0002472359122426897,
          0.00022629602134114038,
          0.00020444824421967173,
          0.0001819942617458029,
          0.00015933384680598753,
          0.00013693157234255534,
          0.00011529617829727698,
          0.00009495540244226894,
          0.0000764139733671475,
          0.00006009378846113379,
          0.000046266223128143404,
          0.000034992775861988154,
          0.000026090788566825766,
          0.000019136493742866553,
          0.000013509062042408304,
          0.00000846772692818293,
          0.00000324185893446517,
          -0.0000028943202453711606,
          -0.000010589127164373983,
          -0.000020434821938843635,
          -0.000033029220851559824,
          -0.00004903661118234842,
          -0.00006919224943709129,
          -0.00009420346919728459,
          -0.00012453481001299866,
          -0.000160114404608081,
          -0.0002000446387708335,
          -0.00024242122309827763,
          -0.00028434910598502017,
          -0.00032219351228893054,
          -0.00035203645583404387,
          -0.0003702474805965227,
          -0.0003740437445117657,
          -0.0003619192716549483,
          -0.0003338619097809183,
          -0.0002913330342434496,
          -0.00023703893627849998,
          -0.00017455818055050215,
          -0.00010790017258910015,
          -0.00004106136030596176,
          0.000022372458552945176,
          0.0000795460876408517,
          0.0001285561920359835,
          0.0001685586552065327,
          0.00019975242141622815,
          0.00022323996928485783,
          0.00024077928342544684,
          0.00025445885837418276,
          0.0002663409866696281,
          0.00027812518996950215,
          0.00029088136898366675,
          0.00030489173150471217,
          0.0003196238969648296,
          0.000333837271872706,
          0.0003458034184056979,
          0.0003536016174169643,
          0.0003554366659970755,
          0.00034992085762458657,
          0.00033626881725477533,
          0.000314372656922552,
          0.0002847523661799654,
          0.00024840539896788113,
          0.00020660120581898788,
          0.0001606738204940281,
          0.0001118566797934162,
          0.0000611833953091666,
          0.00000945522919510017,
          -0.000042740920194920425,
          -0.00009498705098625996,
          -0.00014698194740378278,
          -0.00019849617183802766
         ]
        }
       ],
       "layout": {
        "template": {
         "data": {
          "bar": [
           {
            "error_x": {
             "color": "#2a3f5f"
            },
            "error_y": {
             "color": "#2a3f5f"
            },
            "marker": {
             "line": {
              "color": "#E5ECF6",
              "width": 0.5
             },
             "pattern": {
              "fillmode": "overlay",
              "size": 10,
              "solidity": 0.2
             }
            },
            "type": "bar"
           }
          ],
          "barpolar": [
           {
            "marker": {
             "line": {
              "color": "#E5ECF6",
              "width": 0.5
             },
             "pattern": {
              "fillmode": "overlay",
              "size": 10,
              "solidity": 0.2
             }
            },
            "type": "barpolar"
           }
          ],
          "carpet": [
           {
            "aaxis": {
             "endlinecolor": "#2a3f5f",
             "gridcolor": "white",
             "linecolor": "white",
             "minorgridcolor": "white",
             "startlinecolor": "#2a3f5f"
            },
            "baxis": {
             "endlinecolor": "#2a3f5f",
             "gridcolor": "white",
             "linecolor": "white",
             "minorgridcolor": "white",
             "startlinecolor": "#2a3f5f"
            },
            "type": "carpet"
           }
          ],
          "choropleth": [
           {
            "colorbar": {
             "outlinewidth": 0,
             "ticks": ""
            },
            "type": "choropleth"
           }
          ],
          "contour": [
           {
            "colorbar": {
             "outlinewidth": 0,
             "ticks": ""
            },
            "colorscale": [
             [
              0,
              "#0d0887"
             ],
             [
              0.1111111111111111,
              "#46039f"
             ],
             [
              0.2222222222222222,
              "#7201a8"
             ],
             [
              0.3333333333333333,
              "#9c179e"
             ],
             [
              0.4444444444444444,
              "#bd3786"
             ],
             [
              0.5555555555555556,
              "#d8576b"
             ],
             [
              0.6666666666666666,
              "#ed7953"
             ],
             [
              0.7777777777777778,
              "#fb9f3a"
             ],
             [
              0.8888888888888888,
              "#fdca26"
             ],
             [
              1,
              "#f0f921"
             ]
            ],
            "type": "contour"
           }
          ],
          "contourcarpet": [
           {
            "colorbar": {
             "outlinewidth": 0,
             "ticks": ""
            },
            "type": "contourcarpet"
           }
          ],
          "heatmap": [
           {
            "colorbar": {
             "outlinewidth": 0,
             "ticks": ""
            },
            "colorscale": [
             [
              0,
              "#0d0887"
             ],
             [
              0.1111111111111111,
              "#46039f"
             ],
             [
              0.2222222222222222,
              "#7201a8"
             ],
             [
              0.3333333333333333,
              "#9c179e"
             ],
             [
              0.4444444444444444,
              "#bd3786"
             ],
             [
              0.5555555555555556,
              "#d8576b"
             ],
             [
              0.6666666666666666,
              "#ed7953"
             ],
             [
              0.7777777777777778,
              "#fb9f3a"
             ],
             [
              0.8888888888888888,
              "#fdca26"
             ],
             [
              1,
              "#f0f921"
             ]
            ],
            "type": "heatmap"
           }
          ],
          "heatmapgl": [
           {
            "colorbar": {
             "outlinewidth": 0,
             "ticks": ""
            },
            "colorscale": [
             [
              0,
              "#0d0887"
             ],
             [
              0.1111111111111111,
              "#46039f"
             ],
             [
              0.2222222222222222,
              "#7201a8"
             ],
             [
              0.3333333333333333,
              "#9c179e"
             ],
             [
              0.4444444444444444,
              "#bd3786"
             ],
             [
              0.5555555555555556,
              "#d8576b"
             ],
             [
              0.6666666666666666,
              "#ed7953"
             ],
             [
              0.7777777777777778,
              "#fb9f3a"
             ],
             [
              0.8888888888888888,
              "#fdca26"
             ],
             [
              1,
              "#f0f921"
             ]
            ],
            "type": "heatmapgl"
           }
          ],
          "histogram": [
           {
            "marker": {
             "pattern": {
              "fillmode": "overlay",
              "size": 10,
              "solidity": 0.2
             }
            },
            "type": "histogram"
           }
          ],
          "histogram2d": [
           {
            "colorbar": {
             "outlinewidth": 0,
             "ticks": ""
            },
            "colorscale": [
             [
              0,
              "#0d0887"
             ],
             [
              0.1111111111111111,
              "#46039f"
             ],
             [
              0.2222222222222222,
              "#7201a8"
             ],
             [
              0.3333333333333333,
              "#9c179e"
             ],
             [
              0.4444444444444444,
              "#bd3786"
             ],
             [
              0.5555555555555556,
              "#d8576b"
             ],
             [
              0.6666666666666666,
              "#ed7953"
             ],
             [
              0.7777777777777778,
              "#fb9f3a"
             ],
             [
              0.8888888888888888,
              "#fdca26"
             ],
             [
              1,
              "#f0f921"
             ]
            ],
            "type": "histogram2d"
           }
          ],
          "histogram2dcontour": [
           {
            "colorbar": {
             "outlinewidth": 0,
             "ticks": ""
            },
            "colorscale": [
             [
              0,
              "#0d0887"
             ],
             [
              0.1111111111111111,
              "#46039f"
             ],
             [
              0.2222222222222222,
              "#7201a8"
             ],
             [
              0.3333333333333333,
              "#9c179e"
             ],
             [
              0.4444444444444444,
              "#bd3786"
             ],
             [
              0.5555555555555556,
              "#d8576b"
             ],
             [
              0.6666666666666666,
              "#ed7953"
             ],
             [
              0.7777777777777778,
              "#fb9f3a"
             ],
             [
              0.8888888888888888,
              "#fdca26"
             ],
             [
              1,
              "#f0f921"
             ]
            ],
            "type": "histogram2dcontour"
           }
          ],
          "mesh3d": [
           {
            "colorbar": {
             "outlinewidth": 0,
             "ticks": ""
            },
            "type": "mesh3d"
           }
          ],
          "parcoords": [
           {
            "line": {
             "colorbar": {
              "outlinewidth": 0,
              "ticks": ""
             }
            },
            "type": "parcoords"
           }
          ],
          "pie": [
           {
            "automargin": true,
            "type": "pie"
           }
          ],
          "scatter": [
           {
            "fillpattern": {
             "fillmode": "overlay",
             "size": 10,
             "solidity": 0.2
            },
            "type": "scatter"
           }
          ],
          "scatter3d": [
           {
            "line": {
             "colorbar": {
              "outlinewidth": 0,
              "ticks": ""
             }
            },
            "marker": {
             "colorbar": {
              "outlinewidth": 0,
              "ticks": ""
             }
            },
            "type": "scatter3d"
           }
          ],
          "scattercarpet": [
           {
            "marker": {
             "colorbar": {
              "outlinewidth": 0,
              "ticks": ""
             }
            },
            "type": "scattercarpet"
           }
          ],
          "scattergeo": [
           {
            "marker": {
             "colorbar": {
              "outlinewidth": 0,
              "ticks": ""
             }
            },
            "type": "scattergeo"
           }
          ],
          "scattergl": [
           {
            "marker": {
             "colorbar": {
              "outlinewidth": 0,
              "ticks": ""
             }
            },
            "type": "scattergl"
           }
          ],
          "scattermapbox": [
           {
            "marker": {
             "colorbar": {
              "outlinewidth": 0,
              "ticks": ""
             }
            },
            "type": "scattermapbox"
           }
          ],
          "scatterpolar": [
           {
            "marker": {
             "colorbar": {
              "outlinewidth": 0,
              "ticks": ""
             }
            },
            "type": "scatterpolar"
           }
          ],
          "scatterpolargl": [
           {
            "marker": {
             "colorbar": {
              "outlinewidth": 0,
              "ticks": ""
             }
            },
            "type": "scatterpolargl"
           }
          ],
          "scatterternary": [
           {
            "marker": {
             "colorbar": {
              "outlinewidth": 0,
              "ticks": ""
             }
            },
            "type": "scatterternary"
           }
          ],
          "surface": [
           {
            "colorbar": {
             "outlinewidth": 0,
             "ticks": ""
            },
            "colorscale": [
             [
              0,
              "#0d0887"
             ],
             [
              0.1111111111111111,
              "#46039f"
             ],
             [
              0.2222222222222222,
              "#7201a8"
             ],
             [
              0.3333333333333333,
              "#9c179e"
             ],
             [
              0.4444444444444444,
              "#bd3786"
             ],
             [
              0.5555555555555556,
              "#d8576b"
             ],
             [
              0.6666666666666666,
              "#ed7953"
             ],
             [
              0.7777777777777778,
              "#fb9f3a"
             ],
             [
              0.8888888888888888,
              "#fdca26"
             ],
             [
              1,
              "#f0f921"
             ]
            ],
            "type": "surface"
           }
          ],
          "table": [
           {
            "cells": {
             "fill": {
              "color": "#EBF0F8"
             },
             "line": {
              "color": "white"
             }
            },
            "header": {
             "fill": {
              "color": "#C8D4E3"
             },
             "line": {
              "color": "white"
             }
            },
            "type": "table"
           }
          ]
         },
         "layout": {
          "annotationdefaults": {
           "arrowcolor": "#2a3f5f",
           "arrowhead": 0,
           "arrowwidth": 1
          },
          "autotypenumbers": "strict",
          "coloraxis": {
           "colorbar": {
            "outlinewidth": 0,
            "ticks": ""
           }
          },
          "colorscale": {
           "diverging": [
            [
             0,
             "#8e0152"
            ],
            [
             0.1,
             "#c51b7d"
            ],
            [
             0.2,
             "#de77ae"
            ],
            [
             0.3,
             "#f1b6da"
            ],
            [
             0.4,
             "#fde0ef"
            ],
            [
             0.5,
             "#f7f7f7"
            ],
            [
             0.6,
             "#e6f5d0"
            ],
            [
             0.7,
             "#b8e186"
            ],
            [
             0.8,
             "#7fbc41"
            ],
            [
             0.9,
             "#4d9221"
            ],
            [
             1,
             "#276419"
            ]
           ],
           "sequential": [
            [
             0,
             "#0d0887"
            ],
            [
             0.1111111111111111,
             "#46039f"
            ],
            [
             0.2222222222222222,
             "#7201a8"
            ],
            [
             0.3333333333333333,
             "#9c179e"
            ],
            [
             0.4444444444444444,
             "#bd3786"
            ],
            [
             0.5555555555555556,
             "#d8576b"
            ],
            [
             0.6666666666666666,
             "#ed7953"
            ],
            [
             0.7777777777777778,
             "#fb9f3a"
            ],
            [
             0.8888888888888888,
             "#fdca26"
            ],
            [
             1,
             "#f0f921"
            ]
           ],
           "sequentialminus": [
            [
             0,
             "#0d0887"
            ],
            [
             0.1111111111111111,
             "#46039f"
            ],
            [
             0.2222222222222222,
             "#7201a8"
            ],
            [
             0.3333333333333333,
             "#9c179e"
            ],
            [
             0.4444444444444444,
             "#bd3786"
            ],
            [
             0.5555555555555556,
             "#d8576b"
            ],
            [
             0.6666666666666666,
             "#ed7953"
            ],
            [
             0.7777777777777778,
             "#fb9f3a"
            ],
            [
             0.8888888888888888,
             "#fdca26"
            ],
            [
             1,
             "#f0f921"
            ]
           ]
          },
          "colorway": [
           "#636efa",
           "#EF553B",
           "#00cc96",
           "#ab63fa",
           "#FFA15A",
           "#19d3f3",
           "#FF6692",
           "#B6E880",
           "#FF97FF",
           "#FECB52"
          ],
          "font": {
           "color": "#2a3f5f"
          },
          "geo": {
           "bgcolor": "white",
           "lakecolor": "white",
           "landcolor": "#E5ECF6",
           "showlakes": true,
           "showland": true,
           "subunitcolor": "white"
          },
          "hoverlabel": {
           "align": "left"
          },
          "hovermode": "closest",
          "mapbox": {
           "style": "light"
          },
          "paper_bgcolor": "white",
          "plot_bgcolor": "#E5ECF6",
          "polar": {
           "angularaxis": {
            "gridcolor": "white",
            "linecolor": "white",
            "ticks": ""
           },
           "bgcolor": "#E5ECF6",
           "radialaxis": {
            "gridcolor": "white",
            "linecolor": "white",
            "ticks": ""
           }
          },
          "scene": {
           "xaxis": {
            "backgroundcolor": "#E5ECF6",
            "gridcolor": "white",
            "gridwidth": 2,
            "linecolor": "white",
            "showbackground": true,
            "ticks": "",
            "zerolinecolor": "white"
           },
           "yaxis": {
            "backgroundcolor": "#E5ECF6",
            "gridcolor": "white",
            "gridwidth": 2,
            "linecolor": "white",
            "showbackground": true,
            "ticks": "",
            "zerolinecolor": "white"
           },
           "zaxis": {
            "backgroundcolor": "#E5ECF6",
            "gridcolor": "white",
            "gridwidth": 2,
            "linecolor": "white",
            "showbackground": true,
            "ticks": "",
            "zerolinecolor": "white"
           }
          },
          "shapedefaults": {
           "line": {
            "color": "#2a3f5f"
           }
          },
          "ternary": {
           "aaxis": {
            "gridcolor": "white",
            "linecolor": "white",
            "ticks": ""
           },
           "baxis": {
            "gridcolor": "white",
            "linecolor": "white",
            "ticks": ""
           },
           "bgcolor": "#E5ECF6",
           "caxis": {
            "gridcolor": "white",
            "linecolor": "white",
            "ticks": ""
           }
          },
          "title": {
           "x": 0.05
          },
          "xaxis": {
           "automargin": true,
           "gridcolor": "white",
           "linecolor": "white",
           "ticks": "",
           "title": {
            "standoff": 15
           },
           "zerolinecolor": "white",
           "zerolinewidth": 2
          },
          "yaxis": {
           "automargin": true,
           "gridcolor": "white",
           "linecolor": "white",
           "ticks": "",
           "title": {
            "standoff": 15
           },
           "zerolinecolor": "white",
           "zerolinewidth": 2
          }
         }
        }
       }
      }
     },
     "metadata": {},
     "output_type": "display_data"
    }
   ],
   "source": [
    "fig_gamma = go.Figure()\n",
    "fig_gamma.add_trace(go.Scatter(x=gamma.index, y=gamma.values, mode='markers', name='Raw Gamma'))\n",
    "fig_gamma.add_trace(go.Scatter(x=gamma.index, y=gamma_kernel, mode='lines', name='Kernel Regression'))\n",
    "# fig_gamma.add_trace(go.Scatter(x=gamma.index, y=y_exp, mode='lines', name='Exponential Fit'))\n",
    "fig_gamma.show()"
   ]
  },
  {
   "cell_type": "code",
   "execution_count": 9,
   "id": "2d8bf93f",
   "metadata": {},
   "outputs": [],
   "source": [
    "def cumul_mean(arr):\n",
    "    cumul_mean = np.cumsum(arr, axis=0)    \n",
    "    for i in range(cumul_mean.shape[0]):       \n",
    "        if i == 0:\n",
    "            continue        \n",
    "        cumul_mean[i] =  cumul_mean[i] / (i + 1)\n",
    "    return cumul_mean"
   ]
  },
  {
   "cell_type": "code",
   "execution_count": 10,
   "id": "1b8989ec",
   "metadata": {},
   "outputs": [
    {
     "data": {
      "application/vnd.plotly.v1+json": {
       "config": {
        "plotlyServerURL": "https://plot.ly"
       },
       "data": [
        {
         "mode": "markers",
         "name": "Raw Gamma",
         "type": "scatter",
         "x": [
          2,
          3,
          4,
          5,
          6,
          7,
          8,
          9,
          10,
          11,
          12,
          13,
          14,
          15,
          16,
          17,
          18,
          19,
          20,
          21,
          22,
          23,
          24,
          25,
          26,
          27,
          28,
          29,
          30,
          31,
          32,
          33,
          34,
          35,
          36,
          37,
          38,
          39,
          40,
          41,
          42,
          43,
          44,
          45,
          46,
          47,
          48,
          49,
          50,
          51,
          52,
          53,
          54,
          55,
          56,
          57,
          58,
          59,
          60,
          61,
          62,
          63,
          64,
          65,
          66,
          67,
          68,
          69,
          70,
          71,
          72,
          73,
          74,
          75,
          76,
          77,
          78,
          79,
          80,
          81,
          82,
          83,
          84,
          85,
          86,
          87,
          88,
          89,
          90,
          91,
          92,
          93,
          94,
          95,
          96,
          97,
          98,
          99,
          100
         ],
         "y": [
          0.0006049483287018287,
          -0.00020104667800944424,
          -0.0008824776516276173,
          -0.0013145209000924175,
          -0.0015836568929716462,
          -0.001613054412524086,
          -0.001401150000565113,
          -0.001471910972203964,
          -0.0012186437518266469,
          -0.0009885088160112468,
          -0.0008976784349745949,
          -0.0007321522748265892,
          -0.0007057061673512951,
          -0.0007109147100927028,
          -0.0005659376159756272,
          -0.00047355738498684567,
          -0.00030809177617024144,
          -0.0002288227812615104,
          -0.00020599467382677005,
          -0.00021891726968660858,
          -0.0002331868801814715,
          -0.0002556345942139505,
          -0.0001902445388642269,
          -0.00017668312245595308,
          -0.00011030428898486534,
          -0.00009152300151461832,
          -0.00007681931251117014,
          -0.00006181483799713853,
          -0.00008957208029864882,
          -0.00007887029757538452,
          -0.00004987000579847028,
          -0.00004885662193785856,
          -0.000028761973995109004,
          -0.000011734668463302657,
          -0.000035201815228213044,
          -0.00002718532900561694,
          -0.0000295951457426248,
          -0.00001010853728543956,
          -0.00003594366088219248,
          -0.0000243869397868175,
          -0.00000668818772026584,
          -0.0000221211128988575,
          -0.000021147970974346674,
          -0.00002913870483895056,
          -0.00003180423608710707,
          -0.00001881195653909823,
          -0.00001674909586002905,
          0.000005526090146248259,
          -0.0000017291306112303196,
          -0.00001560414228021552,
          -0.00004553377374048956,
          -0.00002412151496628142,
          -0.00002065536959719578,
          -0.000018014017781970812,
          -0.000008080854030004375,
          -0.000013081096014683465,
          -0.000013592515304760395,
          -0.000021483972789877684,
          -0.000032493519430243726,
          -0.00004959036922551387,
          -0.00006212376607120716,
          -0.00008474218391441588,
          -0.00009735112497940944,
          -0.00008516286202500499,
          -0.00008133911709386438,
          -0.00008385763280735847,
          -0.0001077890331660607,
          -0.00009157370798593697,
          -0.0000937344936120344,
          -0.00008214278616450002,
          -0.00007232829174343852,
          -0.00006424190194451149,
          -0.00006160211020665345,
          -0.00006204192726683555,
          -0.00004499386975509735,
          -0.00005192457012469572,
          -0.00004988830360754799,
          -0.00004282625566952366,
          -0.000034274072767378465,
          -0.00004431893317400898,
          -0.00003363030385764147,
          -0.000029318936584982458,
          -0.000027988090529343936,
          -0.000023636471198370617,
          -0.00000894353083892218,
          -0.000002061419312489338,
          0.0000016044340716333611,
          0.000005411613175670225,
          0.000012862959068099106,
          0.000014087523675987955,
          0.00001925321348710359,
          0.000015436770376702805,
          0.000016563527217440576,
          0.000012879315810621838,
          0.000021637246775722235,
          0.0000215594533729856,
          0.000020260200831022506,
          0.000014860053665581172,
          1.671822460761541e-8
         ]
        }
       ],
       "layout": {
        "template": {
         "data": {
          "bar": [
           {
            "error_x": {
             "color": "#2a3f5f"
            },
            "error_y": {
             "color": "#2a3f5f"
            },
            "marker": {
             "line": {
              "color": "#E5ECF6",
              "width": 0.5
             },
             "pattern": {
              "fillmode": "overlay",
              "size": 10,
              "solidity": 0.2
             }
            },
            "type": "bar"
           }
          ],
          "barpolar": [
           {
            "marker": {
             "line": {
              "color": "#E5ECF6",
              "width": 0.5
             },
             "pattern": {
              "fillmode": "overlay",
              "size": 10,
              "solidity": 0.2
             }
            },
            "type": "barpolar"
           }
          ],
          "carpet": [
           {
            "aaxis": {
             "endlinecolor": "#2a3f5f",
             "gridcolor": "white",
             "linecolor": "white",
             "minorgridcolor": "white",
             "startlinecolor": "#2a3f5f"
            },
            "baxis": {
             "endlinecolor": "#2a3f5f",
             "gridcolor": "white",
             "linecolor": "white",
             "minorgridcolor": "white",
             "startlinecolor": "#2a3f5f"
            },
            "type": "carpet"
           }
          ],
          "choropleth": [
           {
            "colorbar": {
             "outlinewidth": 0,
             "ticks": ""
            },
            "type": "choropleth"
           }
          ],
          "contour": [
           {
            "colorbar": {
             "outlinewidth": 0,
             "ticks": ""
            },
            "colorscale": [
             [
              0,
              "#0d0887"
             ],
             [
              0.1111111111111111,
              "#46039f"
             ],
             [
              0.2222222222222222,
              "#7201a8"
             ],
             [
              0.3333333333333333,
              "#9c179e"
             ],
             [
              0.4444444444444444,
              "#bd3786"
             ],
             [
              0.5555555555555556,
              "#d8576b"
             ],
             [
              0.6666666666666666,
              "#ed7953"
             ],
             [
              0.7777777777777778,
              "#fb9f3a"
             ],
             [
              0.8888888888888888,
              "#fdca26"
             ],
             [
              1,
              "#f0f921"
             ]
            ],
            "type": "contour"
           }
          ],
          "contourcarpet": [
           {
            "colorbar": {
             "outlinewidth": 0,
             "ticks": ""
            },
            "type": "contourcarpet"
           }
          ],
          "heatmap": [
           {
            "colorbar": {
             "outlinewidth": 0,
             "ticks": ""
            },
            "colorscale": [
             [
              0,
              "#0d0887"
             ],
             [
              0.1111111111111111,
              "#46039f"
             ],
             [
              0.2222222222222222,
              "#7201a8"
             ],
             [
              0.3333333333333333,
              "#9c179e"
             ],
             [
              0.4444444444444444,
              "#bd3786"
             ],
             [
              0.5555555555555556,
              "#d8576b"
             ],
             [
              0.6666666666666666,
              "#ed7953"
             ],
             [
              0.7777777777777778,
              "#fb9f3a"
             ],
             [
              0.8888888888888888,
              "#fdca26"
             ],
             [
              1,
              "#f0f921"
             ]
            ],
            "type": "heatmap"
           }
          ],
          "heatmapgl": [
           {
            "colorbar": {
             "outlinewidth": 0,
             "ticks": ""
            },
            "colorscale": [
             [
              0,
              "#0d0887"
             ],
             [
              0.1111111111111111,
              "#46039f"
             ],
             [
              0.2222222222222222,
              "#7201a8"
             ],
             [
              0.3333333333333333,
              "#9c179e"
             ],
             [
              0.4444444444444444,
              "#bd3786"
             ],
             [
              0.5555555555555556,
              "#d8576b"
             ],
             [
              0.6666666666666666,
              "#ed7953"
             ],
             [
              0.7777777777777778,
              "#fb9f3a"
             ],
             [
              0.8888888888888888,
              "#fdca26"
             ],
             [
              1,
              "#f0f921"
             ]
            ],
            "type": "heatmapgl"
           }
          ],
          "histogram": [
           {
            "marker": {
             "pattern": {
              "fillmode": "overlay",
              "size": 10,
              "solidity": 0.2
             }
            },
            "type": "histogram"
           }
          ],
          "histogram2d": [
           {
            "colorbar": {
             "outlinewidth": 0,
             "ticks": ""
            },
            "colorscale": [
             [
              0,
              "#0d0887"
             ],
             [
              0.1111111111111111,
              "#46039f"
             ],
             [
              0.2222222222222222,
              "#7201a8"
             ],
             [
              0.3333333333333333,
              "#9c179e"
             ],
             [
              0.4444444444444444,
              "#bd3786"
             ],
             [
              0.5555555555555556,
              "#d8576b"
             ],
             [
              0.6666666666666666,
              "#ed7953"
             ],
             [
              0.7777777777777778,
              "#fb9f3a"
             ],
             [
              0.8888888888888888,
              "#fdca26"
             ],
             [
              1,
              "#f0f921"
             ]
            ],
            "type": "histogram2d"
           }
          ],
          "histogram2dcontour": [
           {
            "colorbar": {
             "outlinewidth": 0,
             "ticks": ""
            },
            "colorscale": [
             [
              0,
              "#0d0887"
             ],
             [
              0.1111111111111111,
              "#46039f"
             ],
             [
              0.2222222222222222,
              "#7201a8"
             ],
             [
              0.3333333333333333,
              "#9c179e"
             ],
             [
              0.4444444444444444,
              "#bd3786"
             ],
             [
              0.5555555555555556,
              "#d8576b"
             ],
             [
              0.6666666666666666,
              "#ed7953"
             ],
             [
              0.7777777777777778,
              "#fb9f3a"
             ],
             [
              0.8888888888888888,
              "#fdca26"
             ],
             [
              1,
              "#f0f921"
             ]
            ],
            "type": "histogram2dcontour"
           }
          ],
          "mesh3d": [
           {
            "colorbar": {
             "outlinewidth": 0,
             "ticks": ""
            },
            "type": "mesh3d"
           }
          ],
          "parcoords": [
           {
            "line": {
             "colorbar": {
              "outlinewidth": 0,
              "ticks": ""
             }
            },
            "type": "parcoords"
           }
          ],
          "pie": [
           {
            "automargin": true,
            "type": "pie"
           }
          ],
          "scatter": [
           {
            "fillpattern": {
             "fillmode": "overlay",
             "size": 10,
             "solidity": 0.2
            },
            "type": "scatter"
           }
          ],
          "scatter3d": [
           {
            "line": {
             "colorbar": {
              "outlinewidth": 0,
              "ticks": ""
             }
            },
            "marker": {
             "colorbar": {
              "outlinewidth": 0,
              "ticks": ""
             }
            },
            "type": "scatter3d"
           }
          ],
          "scattercarpet": [
           {
            "marker": {
             "colorbar": {
              "outlinewidth": 0,
              "ticks": ""
             }
            },
            "type": "scattercarpet"
           }
          ],
          "scattergeo": [
           {
            "marker": {
             "colorbar": {
              "outlinewidth": 0,
              "ticks": ""
             }
            },
            "type": "scattergeo"
           }
          ],
          "scattergl": [
           {
            "marker": {
             "colorbar": {
              "outlinewidth": 0,
              "ticks": ""
             }
            },
            "type": "scattergl"
           }
          ],
          "scattermapbox": [
           {
            "marker": {
             "colorbar": {
              "outlinewidth": 0,
              "ticks": ""
             }
            },
            "type": "scattermapbox"
           }
          ],
          "scatterpolar": [
           {
            "marker": {
             "colorbar": {
              "outlinewidth": 0,
              "ticks": ""
             }
            },
            "type": "scatterpolar"
           }
          ],
          "scatterpolargl": [
           {
            "marker": {
             "colorbar": {
              "outlinewidth": 0,
              "ticks": ""
             }
            },
            "type": "scatterpolargl"
           }
          ],
          "scatterternary": [
           {
            "marker": {
             "colorbar": {
              "outlinewidth": 0,
              "ticks": ""
             }
            },
            "type": "scatterternary"
           }
          ],
          "surface": [
           {
            "colorbar": {
             "outlinewidth": 0,
             "ticks": ""
            },
            "colorscale": [
             [
              0,
              "#0d0887"
             ],
             [
              0.1111111111111111,
              "#46039f"
             ],
             [
              0.2222222222222222,
              "#7201a8"
             ],
             [
              0.3333333333333333,
              "#9c179e"
             ],
             [
              0.4444444444444444,
              "#bd3786"
             ],
             [
              0.5555555555555556,
              "#d8576b"
             ],
             [
              0.6666666666666666,
              "#ed7953"
             ],
             [
              0.7777777777777778,
              "#fb9f3a"
             ],
             [
              0.8888888888888888,
              "#fdca26"
             ],
             [
              1,
              "#f0f921"
             ]
            ],
            "type": "surface"
           }
          ],
          "table": [
           {
            "cells": {
             "fill": {
              "color": "#EBF0F8"
             },
             "line": {
              "color": "white"
             }
            },
            "header": {
             "fill": {
              "color": "#C8D4E3"
             },
             "line": {
              "color": "white"
             }
            },
            "type": "table"
           }
          ]
         },
         "layout": {
          "annotationdefaults": {
           "arrowcolor": "#2a3f5f",
           "arrowhead": 0,
           "arrowwidth": 1
          },
          "autotypenumbers": "strict",
          "coloraxis": {
           "colorbar": {
            "outlinewidth": 0,
            "ticks": ""
           }
          },
          "colorscale": {
           "diverging": [
            [
             0,
             "#8e0152"
            ],
            [
             0.1,
             "#c51b7d"
            ],
            [
             0.2,
             "#de77ae"
            ],
            [
             0.3,
             "#f1b6da"
            ],
            [
             0.4,
             "#fde0ef"
            ],
            [
             0.5,
             "#f7f7f7"
            ],
            [
             0.6,
             "#e6f5d0"
            ],
            [
             0.7,
             "#b8e186"
            ],
            [
             0.8,
             "#7fbc41"
            ],
            [
             0.9,
             "#4d9221"
            ],
            [
             1,
             "#276419"
            ]
           ],
           "sequential": [
            [
             0,
             "#0d0887"
            ],
            [
             0.1111111111111111,
             "#46039f"
            ],
            [
             0.2222222222222222,
             "#7201a8"
            ],
            [
             0.3333333333333333,
             "#9c179e"
            ],
            [
             0.4444444444444444,
             "#bd3786"
            ],
            [
             0.5555555555555556,
             "#d8576b"
            ],
            [
             0.6666666666666666,
             "#ed7953"
            ],
            [
             0.7777777777777778,
             "#fb9f3a"
            ],
            [
             0.8888888888888888,
             "#fdca26"
            ],
            [
             1,
             "#f0f921"
            ]
           ],
           "sequentialminus": [
            [
             0,
             "#0d0887"
            ],
            [
             0.1111111111111111,
             "#46039f"
            ],
            [
             0.2222222222222222,
             "#7201a8"
            ],
            [
             0.3333333333333333,
             "#9c179e"
            ],
            [
             0.4444444444444444,
             "#bd3786"
            ],
            [
             0.5555555555555556,
             "#d8576b"
            ],
            [
             0.6666666666666666,
             "#ed7953"
            ],
            [
             0.7777777777777778,
             "#fb9f3a"
            ],
            [
             0.8888888888888888,
             "#fdca26"
            ],
            [
             1,
             "#f0f921"
            ]
           ]
          },
          "colorway": [
           "#636efa",
           "#EF553B",
           "#00cc96",
           "#ab63fa",
           "#FFA15A",
           "#19d3f3",
           "#FF6692",
           "#B6E880",
           "#FF97FF",
           "#FECB52"
          ],
          "font": {
           "color": "#2a3f5f"
          },
          "geo": {
           "bgcolor": "white",
           "lakecolor": "white",
           "landcolor": "#E5ECF6",
           "showlakes": true,
           "showland": true,
           "subunitcolor": "white"
          },
          "hoverlabel": {
           "align": "left"
          },
          "hovermode": "closest",
          "mapbox": {
           "style": "light"
          },
          "paper_bgcolor": "white",
          "plot_bgcolor": "#E5ECF6",
          "polar": {
           "angularaxis": {
            "gridcolor": "white",
            "linecolor": "white",
            "ticks": ""
           },
           "bgcolor": "#E5ECF6",
           "radialaxis": {
            "gridcolor": "white",
            "linecolor": "white",
            "ticks": ""
           }
          },
          "scene": {
           "xaxis": {
            "backgroundcolor": "#E5ECF6",
            "gridcolor": "white",
            "gridwidth": 2,
            "linecolor": "white",
            "showbackground": true,
            "ticks": "",
            "zerolinecolor": "white"
           },
           "yaxis": {
            "backgroundcolor": "#E5ECF6",
            "gridcolor": "white",
            "gridwidth": 2,
            "linecolor": "white",
            "showbackground": true,
            "ticks": "",
            "zerolinecolor": "white"
           },
           "zaxis": {
            "backgroundcolor": "#E5ECF6",
            "gridcolor": "white",
            "gridwidth": 2,
            "linecolor": "white",
            "showbackground": true,
            "ticks": "",
            "zerolinecolor": "white"
           }
          },
          "shapedefaults": {
           "line": {
            "color": "#2a3f5f"
           }
          },
          "ternary": {
           "aaxis": {
            "gridcolor": "white",
            "linecolor": "white",
            "ticks": ""
           },
           "baxis": {
            "gridcolor": "white",
            "linecolor": "white",
            "ticks": ""
           },
           "bgcolor": "#E5ECF6",
           "caxis": {
            "gridcolor": "white",
            "linecolor": "white",
            "ticks": ""
           }
          },
          "title": {
           "x": 0.05
          },
          "xaxis": {
           "automargin": true,
           "gridcolor": "white",
           "linecolor": "white",
           "ticks": "",
           "title": {
            "standoff": 15
           },
           "zerolinecolor": "white",
           "zerolinewidth": 2
          },
          "yaxis": {
           "automargin": true,
           "gridcolor": "white",
           "linecolor": "white",
           "ticks": "",
           "title": {
            "standoff": 15
           },
           "zerolinecolor": "white",
           "zerolinewidth": 2
          }
         }
        }
       }
      }
     },
     "metadata": {},
     "output_type": "display_data"
    }
   ],
   "source": [
    "fig_gamma_cumul = go.Figure()\n",
    "fig_gamma_cumul.add_trace(go.Scatter(x=gamma.index, y=cumul_mean(gamma.values), mode='markers', name='Raw Gamma'))\n",
    "fig_gamma_cumul.show()"
   ]
  },
  {
   "cell_type": "code",
   "execution_count": 11,
   "id": "b5396534",
   "metadata": {},
   "outputs": [
    {
     "name": "stdout",
     "output_type": "stream",
     "text": [
      "number of lags: 0\n"
     ]
    },
    {
     "data": {
      "image/png": "[encoded data removed]",
      "text/plain": [
       "<Figure size 640x480 with 1 Axes>"
      ]
     },
     "metadata": {},
     "output_type": "display_data"
    }
   ],
   "source": [
    "# Using expanding ADF test to see if gamma becomes stationary over time\n",
    "\n",
    "lags = adfuller(gamma, autolag='AIC')[2]\n",
    "print(\"number of lags:\", lags)\n",
    "\n",
    "pvals = []\n",
    "q = 23\n",
    "for i in range(q, len(gamma)):\n",
    "    sample = gamma.iloc[:i]\n",
    "    adf_p = adfuller(sample, maxlag=lags, autolag=None)[1]\n",
    "    pvals.append(adf_p)\n",
    "\n",
    "plt.plot(gamma.index[q:], pvals, label = 'p-values')\n",
    "plt.axhline(y=0.05, color='r', linestyle='--', label='p=0.05')\n",
    "plt.axvline(x=q + 2, color='r', linestyle='--', c = 'black', label=f'{q + 2} days')\n",
    "plt.ylabel('p-value')\n",
    "plt.legend()\n",
    "plt.show()"
   ]
  },
  {
   "cell_type": "code",
   "execution_count": 12,
   "id": "4137f0d5",
   "metadata": {},
   "outputs": [
    {
     "data": {
      "text/plain": [
       "32"
      ]
     },
     "execution_count": 12,
     "metadata": {},
     "output_type": "execute_result"
    }
   ],
   "source": [
    "adf_df = pd.Series(pvals, index=gamma.index[q:])\n",
    "adf_df[adf_df < 0.05].index[0] # first time gamma becomes stationary"
   ]
  },
  {
   "cell_type": "markdown",
   "id": "6645d661",
   "metadata": {},
   "source": [
    "**ADF Test Hypotheses:**\n",
    "\n",
    "$ H_0 : b = 0 $ (non-stationary, unit root present) \\\n",
    "$ H_a : b < 0 $ (stationary)\n",
    "\n",
    "**Test Regression Equation:**\n",
    "\n",
    "$$\n",
    "\\Delta y_t = a + b y_{t-1} + \\sum_{i=1}^p c_i \\Delta y_{t-i} + \\varepsilon_t\n",
    "$$\n",
    "\n",
    "**Test Statistic:**\n",
    "\n",
    "$$\n",
    "\\tau = \\frac{\\hat{\\gamma}}{\\text{SE}(\\hat{\\gamma})} \\sim T^{\\text{DF}}(\\text{constant only, n})\n",
    "$$\n",
    "$$\\mathrm{AIC} = \\ln\\!\\left(\\frac{\\mathrm{RSS}}{n}\\right) + \\frac{\\mathrm{2k}}{n}$$"
   ]
  },
  {
   "cell_type": "markdown",
   "id": "58a617f0",
   "metadata": {},
   "source": [
    "# Tests on variance\n",
    "\n",
    "### $ \\begin{cases} Var(u_{it}) = k_i \\times \\sigma_t^2 \\\\ E(u_{it}) = 0 \\end{cases}$\n",
    "\n",
    "$ \\hat u_{it} = R_{it} - \\hat{R}_{it} $ \\\n",
    "$ E(\\hat u_{it}) = 0 $ \\\n",
    "$ Var(\\hat u_{it}) = k_i \\times \\sigma_t^2 = \\hat u_{it}^2$"
   ]
  },
  {
   "cell_type": "code",
   "execution_count": 13,
   "id": "867c4f75",
   "metadata": {},
   "outputs": [
    {
     "data": {
      "text/html": [
       "<div>\n",
       "<style scoped>\n",
       "    .dataframe tbody tr th:only-of-type {\n",
       "        vertical-align: middle;\n",
       "    }\n",
       "\n",
       "    .dataframe tbody tr th {\n",
       "        vertical-align: top;\n",
       "    }\n",
       "\n",
       "    .dataframe thead th {\n",
       "        text-align: right;\n",
       "    }\n",
       "</style>\n",
       "<table border=\"1\" class=\"dataframe\">\n",
       "  <thead>\n",
       "    <tr style=\"text-align: right;\">\n",
       "      <th></th>\n",
       "      <th></th>\n",
       "      <th>resid</th>\n",
       "    </tr>\n",
       "    <tr>\n",
       "      <th>i</th>\n",
       "      <th>t</th>\n",
       "      <th></th>\n",
       "    </tr>\n",
       "  </thead>\n",
       "  <tbody>\n",
       "    <tr>\n",
       "      <th rowspan=\"5\" valign=\"top\">INCR</th>\n",
       "      <th>2</th>\n",
       "      <td>0.155114</td>\n",
       "    </tr>\n",
       "    <tr>\n",
       "      <th>3</th>\n",
       "      <td>-0.117558</td>\n",
       "    </tr>\n",
       "    <tr>\n",
       "      <th>4</th>\n",
       "      <td>-0.029419</td>\n",
       "    </tr>\n",
       "    <tr>\n",
       "      <th>5</th>\n",
       "      <td>0.004280</td>\n",
       "    </tr>\n",
       "    <tr>\n",
       "      <th>6</th>\n",
       "      <td>0.021571</td>\n",
       "    </tr>\n",
       "    <tr>\n",
       "      <th>...</th>\n",
       "      <th>...</th>\n",
       "      <td>...</td>\n",
       "    </tr>\n",
       "    <tr>\n",
       "      <th rowspan=\"5\" valign=\"top\">TEL</th>\n",
       "      <th>96</th>\n",
       "      <td>0.020093</td>\n",
       "    </tr>\n",
       "    <tr>\n",
       "      <th>97</th>\n",
       "      <td>0.018780</td>\n",
       "    </tr>\n",
       "    <tr>\n",
       "      <th>98</th>\n",
       "      <td>0.020007</td>\n",
       "    </tr>\n",
       "    <tr>\n",
       "      <th>99</th>\n",
       "      <td>-0.012748</td>\n",
       "    </tr>\n",
       "    <tr>\n",
       "      <th>100</th>\n",
       "      <td>0.007901</td>\n",
       "    </tr>\n",
       "  </tbody>\n",
       "</table>\n",
       "<p>541051 rows × 1 columns</p>\n",
       "</div>"
      ],
      "text/plain": [
       "             resid\n",
       "i    t            \n",
       "INCR 2    0.155114\n",
       "     3   -0.117558\n",
       "     4   -0.029419\n",
       "     5    0.004280\n",
       "     6    0.021571\n",
       "...            ...\n",
       "TEL  96   0.020093\n",
       "     97   0.018780\n",
       "     98   0.020007\n",
       "     99  -0.012748\n",
       "     100  0.007901\n",
       "\n",
       "[541051 rows x 1 columns]"
      ]
     },
     "execution_count": 13,
     "metadata": {},
     "output_type": "execute_result"
    }
   ],
   "source": [
    "resids = df['ret'] - model.estimated_effects['estimated_effects'] - model.fitted_values['fitted_values']\n",
    "resids = pd.DataFrame(resids, columns=['resid'])\n",
    "resids"
   ]
  },
  {
   "cell_type": "markdown",
   "id": "7be21d8e",
   "metadata": {},
   "source": [
    "\n",
    "#### Modeled via Iterated Feasible Generalized Least Squares (IFGLS) -> [Source](https://www.jstor.org/stable/1909405?seq=1): \n",
    "$\n",
    "\\begin{aligned}\n",
    "1.\\quad &\\hat u_{it} = R_{it} - \\hat\\beta - \\hat\\lambda_i - \\hat\\gamma_t, \\\\\n",
    "2.\\quad &\\hat\\sigma_t^2 \\;=\\;\\frac{1}{N}\\sum_{i=1}^N \\hat u_{it}^2, \\\\\n",
    "3.\\quad &\\hat k_i \\;=\\;\\frac{1}{T}\\sum_{t=1}^T \\frac{\\hat u_{it}^2}{\\hat\\sigma_t^2}, \\\\\n",
    "4.\\quad &\\hat\\sigma_t^2 \\;=\\;\\frac{1}{N}\\sum_{i=1}^N \\frac{\\hat u_{it}^2}{\\hat k_i}, \\\\\n",
    "5.\\quad &\\text{Repeat steps 3–4 until } \n",
    "\\max\\bigl|\\hat k_i^{(r)}-\\hat k_i^{(r-1)}\\bigr|,\\,\n",
    "\\max\\bigl|\\hat\\sigma_t^{2\\,(r)}-\\hat\\sigma_t^{2\\,(r-1)}\\bigr|<\\varepsilon.\n",
    "\\end{aligned}\n",
    "$\n",
    "\n",
    "P. A. V. B. Swamy, and S. S. Arora. “The Exact Finite Sample Properties of the Estimators of Coefficients in the Error Components Regression Models.” Econometrica, vol. 40, no. 2, 1972, pp. 261–75. JSTOR, https://doi.org/10.2307/1909405. Accessed 27 Apr. 2025.\n"
   ]
  },
  {
   "cell_type": "code",
   "execution_count": 14,
   "id": "e117ebee",
   "metadata": {},
   "outputs": [
    {
     "name": "stdout",
     "output_type": "stream",
     "text": [
      "Converged after 9 iterations.\n"
     ]
    }
   ],
   "source": [
    "k, sigma = estimate_k_sigma(resids.reset_index())"
   ]
  },
  {
   "cell_type": "code",
   "execution_count": 15,
   "id": "8b62ccbd",
   "metadata": {},
   "outputs": [
    {
     "data": {
      "text/plain": [
       "(0.8134401414876293, 7.030182470121779e-07)"
      ]
     },
     "execution_count": 15,
     "metadata": {},
     "output_type": "execute_result"
    }
   ],
   "source": [
    "sigma.min(), k.min()\n",
    "\n",
    "### Both values >= 0 thus the model never predicts negative variance "
   ]
  },
  {
   "cell_type": "code",
   "execution_count": 16,
   "id": "2a43b464",
   "metadata": {},
   "outputs": [],
   "source": [
    "sigma_kernel = [kd_regression(ti, sigma.index, sigma.values, 5) for ti in sigma.index]\n",
    "sigma_kernel = pd.Series(sigma_kernel, index = sigma.index)"
   ]
  },
  {
   "cell_type": "code",
   "execution_count": 17,
   "id": "ffb9d3e2",
   "metadata": {},
   "outputs": [
    {
     "data": {
      "application/vnd.plotly.v1+json": {
       "config": {
        "plotlyServerURL": "https://plot.ly"
       },
       "data": [
        {
         "mode": "markers",
         "name": "Raw Sigma",
         "type": "scatter",
         "x": [
          2,
          3,
          4,
          5,
          6,
          7,
          8,
          9,
          10,
          11,
          12,
          13,
          14,
          15,
          16,
          17,
          18,
          19,
          20,
          21,
          22,
          23,
          24,
          25,
          26,
          27,
          28,
          29,
          30,
          31,
          32,
          33,
          34,
          35,
          36,
          37,
          38,
          39,
          40,
          41,
          42,
          43,
          44,
          45,
          46,
          47,
          48,
          49,
          50,
          51,
          52,
          53,
          54,
          55,
          56,
          57,
          58,
          59,
          60,
          61,
          62,
          63,
          64,
          65,
          66,
          67,
          68,
          69,
          70,
          71,
          72,
          73,
          74,
          75,
          76,
          77,
          78,
          79,
          80,
          81,
          82,
          83,
          84,
          85,
          86,
          87,
          88,
          89,
          90,
          91,
          92,
          93,
          94,
          95,
          96,
          97,
          98,
          99,
          100
         ],
         "y": [
          2.604263947945059,
          1.8093782847277975,
          1.6502903350170977,
          1.6939161804754892,
          1.5694309802455246,
          1.2560062571424317,
          1.1957479006063814,
          1.387306606254368,
          1.2209815237387922,
          1.0795039686625238,
          1.0852950102707088,
          1.149357136519396,
          1.0285155085115028,
          1.0514191528613441,
          1.056835073558579,
          1.033311559239517,
          1.2181458547248736,
          1.0805696963345217,
          0.9988792090182841,
          0.9984071983139746,
          0.9798694353030287,
          0.9539157786081263,
          0.9865603801957492,
          0.9271459094871626,
          1.0733621877953952,
          1.0170147373868503,
          0.978698685820197,
          0.9354579531229014,
          0.962553191237525,
          0.9585549105043719,
          0.9317642053226519,
          0.940478016642368,
          0.9406561695593598,
          0.9552889780820631,
          0.9339649205371782,
          0.8813402554573408,
          0.9588129356723468,
          0.9047587378392776,
          0.9518933887560203,
          0.9202801698795166,
          0.9011540232329666,
          0.919896995453812,
          0.9316905405700026,
          0.9005462395114957,
          0.957731020682413,
          0.8959330646157713,
          0.913455988217605,
          0.93002978767918,
          0.9331255955168103,
          0.9194905738672906,
          0.9465423537548956,
          0.9570741046399304,
          0.8351773215441699,
          0.8517520423049932,
          0.898563061118507,
          0.8836634771662218,
          0.8846686100663333,
          0.8134401414876293,
          0.849367319497693,
          0.9251411346577039,
          0.9180582282210112,
          1.0005366995509206,
          0.9221175691989346,
          0.8835780075841764,
          0.9074492379466496,
          0.9015248043560552,
          0.9507742771768263,
          0.8937675085790746,
          0.8779107639485647,
          0.8667004433552713,
          0.943600046244516,
          0.9084464487637434,
          0.9161485063329741,
          0.9279086743053275,
          0.9506141666262828,
          0.9105984102475143,
          0.8644031705565137,
          0.9482668212404098,
          0.9072086822670893,
          0.9181466564548891,
          0.9463684598628694,
          0.9101985097307588,
          0.9058918515877693,
          0.9229067658531526,
          0.908264458028952,
          0.9169390742485608,
          0.9825322526698855,
          0.9378440516627395,
          0.8807015652417933,
          0.9196296146896786,
          0.985025761176882,
          0.8641091135505409,
          0.944169989836362,
          1.006130117936287,
          0.9400926059685782,
          0.9927885580986648,
          0.9557080014808217,
          0.8910701120840084,
          1.008586534436331
         ]
        },
        {
         "mode": "lines",
         "name": "Kernel Regression",
         "type": "scatter",
         "x": [
          2,
          3,
          4,
          5,
          6,
          7,
          8,
          9,
          10,
          11,
          12,
          13,
          14,
          15,
          16,
          17,
          18,
          19,
          20,
          21,
          22,
          23,
          24,
          25,
          26,
          27,
          28,
          29,
          30,
          31,
          32,
          33,
          34,
          35,
          36,
          37,
          38,
          39,
          40,
          41,
          42,
          43,
          44,
          45,
          46,
          47,
          48,
          49,
          50,
          51,
          52,
          53,
          54,
          55,
          56,
          57,
          58,
          59,
          60,
          61,
          62,
          63,
          64,
          65,
          66,
          67,
          68,
          69,
          70,
          71,
          72,
          73,
          74,
          75,
          76,
          77,
          78,
          79,
          80,
          81,
          82,
          83,
          84,
          85,
          86,
          87,
          88,
          89,
          90,
          91,
          92,
          93,
          94,
          95,
          96,
          97,
          98,
          99,
          100
         ],
         "y": [
          1.6643406224948945,
          1.617244239894453,
          1.5686173978688653,
          1.518912139018915,
          1.468726058281506,
          1.4187929527113583,
          1.3699504118094428,
          1.3230816532966978,
          1.2790350864295104,
          1.2385328466222547,
          1.2020861082098673,
          1.1699370108538607,
          1.1420424938794733,
          1.1181050241455988,
          1.0976427136488034,
          1.0800812478932433,
          1.0648457362523265,
          1.0514328984517662,
          1.0394514400908568,
          1.0286282575225976,
          1.018787220776202,
          1.0098132462391778,
          1.0016158419732373,
          0.9941033773514735,
          0.9871734584467752,
          0.9807182827715892,
          0.9746389716921693,
          0.9688610316817435,
          0.9633443620518068,
          0.9580845313797194,
          0.9531057631950963,
          0.9484487722399954,
          0.9441575579086658,
          0.9402685980013077,
          0.9368042676121938,
          0.9337705549114276,
          0.9311578699095124,
          0.9289431964645491,
          0.9270919636348722,
          0.9255585933148313,
          0.9242854829519754,
          0.9232010186262025,
          0.9222179361550308,
          0.9212338067293059,
          0.9201354539765696,
          0.9188085677351697,
          0.9171526240652391,
          0.915099594719919,
          0.9126331979180876,
          0.9098041398548394,
          0.9067364767814722,
          0.9036212605414513,
          0.9006960200426021,
          0.8982119355925743,
          0.896393965289506,
          0.8954017021416014,
          0.8952995260228016,
          0.8960432284238948,
          0.8974868913744337,
          0.8994091712586723,
          0.9015534858216612,
          0.9036732330236547,
          0.90557206941545,
          0.9071307744602832,
          0.9083158752552642,
          0.9091699153705053,
          0.9097876615203349,
          0.9102854632860161,
          0.910771751172904,
          0.9113252908116588,
          0.9119849200211392,
          0.9127510491285988,
          0.9135962099888119,
          0.9144801500521854,
          0.915364697252848,
          0.9162246964224035,
          0.9170531897974087,
          0.9178609828541888,
          0.9186722035934192,
          0.9195181132823865,
          0.9204312713524504,
          0.9214414451949642,
          0.9225737194802824,
          0.9238483913559227,
          0.9252816430493641,
          0.9268857936817774,
          0.9286682121775799,
          0.9306286778583898,
          0.9327558856022754,
          0.9350245229848425,
          0.93739449780213,
          0.939813298591821,
          0.9422213558927387,
          0.944559170199781,
          0.9467744044868259,
          0.9488273052274623,
          0.9506935251704882,
          0.9523642746543123,
          0.9538443764664869
         ]
        }
       ],
       "layout": {
        "template": {
         "data": {
          "bar": [
           {
            "error_x": {
             "color": "#2a3f5f"
            },
            "error_y": {
             "color": "#2a3f5f"
            },
            "marker": {
             "line": {
              "color": "#E5ECF6",
              "width": 0.5
             },
             "pattern": {
              "fillmode": "overlay",
              "size": 10,
              "solidity": 0.2
             }
            },
            "type": "bar"
           }
          ],
          "barpolar": [
           {
            "marker": {
             "line": {
              "color": "#E5ECF6",
              "width": 0.5
             },
             "pattern": {
              "fillmode": "overlay",
              "size": 10,
              "solidity": 0.2
             }
            },
            "type": "barpolar"
           }
          ],
          "carpet": [
           {
            "aaxis": {
             "endlinecolor": "#2a3f5f",
             "gridcolor": "white",
             "linecolor": "white",
             "minorgridcolor": "white",
             "startlinecolor": "#2a3f5f"
            },
            "baxis": {
             "endlinecolor": "#2a3f5f",
             "gridcolor": "white",
             "linecolor": "white",
             "minorgridcolor": "white",
             "startlinecolor": "#2a3f5f"
            },
            "type": "carpet"
           }
          ],
          "choropleth": [
           {
            "colorbar": {
             "outlinewidth": 0,
             "ticks": ""
            },
            "type": "choropleth"
           }
          ],
          "contour": [
           {
            "colorbar": {
             "outlinewidth": 0,
             "ticks": ""
            },
            "colorscale": [
             [
              0,
              "#0d0887"
             ],
             [
              0.1111111111111111,
              "#46039f"
             ],
             [
              0.2222222222222222,
              "#7201a8"
             ],
             [
              0.3333333333333333,
              "#9c179e"
             ],
             [
              0.4444444444444444,
              "#bd3786"
             ],
             [
              0.5555555555555556,
              "#d8576b"
             ],
             [
              0.6666666666666666,
              "#ed7953"
             ],
             [
              0.7777777777777778,
              "#fb9f3a"
             ],
             [
              0.8888888888888888,
              "#fdca26"
             ],
             [
              1,
              "#f0f921"
             ]
            ],
            "type": "contour"
           }
          ],
          "contourcarpet": [
           {
            "colorbar": {
             "outlinewidth": 0,
             "ticks": ""
            },
            "type": "contourcarpet"
           }
          ],
          "heatmap": [
           {
            "colorbar": {
             "outlinewidth": 0,
             "ticks": ""
            },
            "colorscale": [
             [
              0,
              "#0d0887"
             ],
             [
              0.1111111111111111,
              "#46039f"
             ],
             [
              0.2222222222222222,
              "#7201a8"
             ],
             [
              0.3333333333333333,
              "#9c179e"
             ],
             [
              0.4444444444444444,
              "#bd3786"
             ],
             [
              0.5555555555555556,
              "#d8576b"
             ],
             [
              0.6666666666666666,
              "#ed7953"
             ],
             [
              0.7777777777777778,
              "#fb9f3a"
             ],
             [
              0.8888888888888888,
              "#fdca26"
             ],
             [
              1,
              "#f0f921"
             ]
            ],
            "type": "heatmap"
           }
          ],
          "heatmapgl": [
           {
            "colorbar": {
             "outlinewidth": 0,
             "ticks": ""
            },
            "colorscale": [
             [
              0,
              "#0d0887"
             ],
             [
              0.1111111111111111,
              "#46039f"
             ],
             [
              0.2222222222222222,
              "#7201a8"
             ],
             [
              0.3333333333333333,
              "#9c179e"
             ],
             [
              0.4444444444444444,
              "#bd3786"
             ],
             [
              0.5555555555555556,
              "#d8576b"
             ],
             [
              0.6666666666666666,
              "#ed7953"
             ],
             [
              0.7777777777777778,
              "#fb9f3a"
             ],
             [
              0.8888888888888888,
              "#fdca26"
             ],
             [
              1,
              "#f0f921"
             ]
            ],
            "type": "heatmapgl"
           }
          ],
          "histogram": [
           {
            "marker": {
             "pattern": {
              "fillmode": "overlay",
              "size": 10,
              "solidity": 0.2
             }
            },
            "type": "histogram"
           }
          ],
          "histogram2d": [
           {
            "colorbar": {
             "outlinewidth": 0,
             "ticks": ""
            },
            "colorscale": [
             [
              0,
              "#0d0887"
             ],
             [
              0.1111111111111111,
              "#46039f"
             ],
             [
              0.2222222222222222,
              "#7201a8"
             ],
             [
              0.3333333333333333,
              "#9c179e"
             ],
             [
              0.4444444444444444,
              "#bd3786"
             ],
             [
              0.5555555555555556,
              "#d8576b"
             ],
             [
              0.6666666666666666,
              "#ed7953"
             ],
             [
              0.7777777777777778,
              "#fb9f3a"
             ],
             [
              0.8888888888888888,
              "#fdca26"
             ],
             [
              1,
              "#f0f921"
             ]
            ],
            "type": "histogram2d"
           }
          ],
          "histogram2dcontour": [
           {
            "colorbar": {
             "outlinewidth": 0,
             "ticks": ""
            },
            "colorscale": [
             [
              0,
              "#0d0887"
             ],
             [
              0.1111111111111111,
              "#46039f"
             ],
             [
              0.2222222222222222,
              "#7201a8"
             ],
             [
              0.3333333333333333,
              "#9c179e"
             ],
             [
              0.4444444444444444,
              "#bd3786"
             ],
             [
              0.5555555555555556,
              "#d8576b"
             ],
             [
              0.6666666666666666,
              "#ed7953"
             ],
             [
              0.7777777777777778,
              "#fb9f3a"
             ],
             [
              0.8888888888888888,
              "#fdca26"
             ],
             [
              1,
              "#f0f921"
             ]
            ],
            "type": "histogram2dcontour"
           }
          ],
          "mesh3d": [
           {
            "colorbar": {
             "outlinewidth": 0,
             "ticks": ""
            },
            "type": "mesh3d"
           }
          ],
          "parcoords": [
           {
            "line": {
             "colorbar": {
              "outlinewidth": 0,
              "ticks": ""
             }
            },
            "type": "parcoords"
           }
          ],
          "pie": [
           {
            "automargin": true,
            "type": "pie"
           }
          ],
          "scatter": [
           {
            "fillpattern": {
             "fillmode": "overlay",
             "size": 10,
             "solidity": 0.2
            },
            "type": "scatter"
           }
          ],
          "scatter3d": [
           {
            "line": {
             "colorbar": {
              "outlinewidth": 0,
              "ticks": ""
             }
            },
            "marker": {
             "colorbar": {
              "outlinewidth": 0,
              "ticks": ""
             }
            },
            "type": "scatter3d"
           }
          ],
          "scattercarpet": [
           {
            "marker": {
             "colorbar": {
              "outlinewidth": 0,
              "ticks": ""
             }
            },
            "type": "scattercarpet"
           }
          ],
          "scattergeo": [
           {
            "marker": {
             "colorbar": {
              "outlinewidth": 0,
              "ticks": ""
             }
            },
            "type": "scattergeo"
           }
          ],
          "scattergl": [
           {
            "marker": {
             "colorbar": {
              "outlinewidth": 0,
              "ticks": ""
             }
            },
            "type": "scattergl"
           }
          ],
          "scattermapbox": [
           {
            "marker": {
             "colorbar": {
              "outlinewidth": 0,
              "ticks": ""
             }
            },
            "type": "scattermapbox"
           }
          ],
          "scatterpolar": [
           {
            "marker": {
             "colorbar": {
              "outlinewidth": 0,
              "ticks": ""
             }
            },
            "type": "scatterpolar"
           }
          ],
          "scatterpolargl": [
           {
            "marker": {
             "colorbar": {
              "outlinewidth": 0,
              "ticks": ""
             }
            },
            "type": "scatterpolargl"
           }
          ],
          "scatterternary": [
           {
            "marker": {
             "colorbar": {
              "outlinewidth": 0,
              "ticks": ""
             }
            },
            "type": "scatterternary"
           }
          ],
          "surface": [
           {
            "colorbar": {
             "outlinewidth": 0,
             "ticks": ""
            },
            "colorscale": [
             [
              0,
              "#0d0887"
             ],
             [
              0.1111111111111111,
              "#46039f"
             ],
             [
              0.2222222222222222,
              "#7201a8"
             ],
             [
              0.3333333333333333,
              "#9c179e"
             ],
             [
              0.4444444444444444,
              "#bd3786"
             ],
             [
              0.5555555555555556,
              "#d8576b"
             ],
             [
              0.6666666666666666,
              "#ed7953"
             ],
             [
              0.7777777777777778,
              "#fb9f3a"
             ],
             [
              0.8888888888888888,
              "#fdca26"
             ],
             [
              1,
              "#f0f921"
             ]
            ],
            "type": "surface"
           }
          ],
          "table": [
           {
            "cells": {
             "fill": {
              "color": "#EBF0F8"
             },
             "line": {
              "color": "white"
             }
            },
            "header": {
             "fill": {
              "color": "#C8D4E3"
             },
             "line": {
              "color": "white"
             }
            },
            "type": "table"
           }
          ]
         },
         "layout": {
          "annotationdefaults": {
           "arrowcolor": "#2a3f5f",
           "arrowhead": 0,
           "arrowwidth": 1
          },
          "autotypenumbers": "strict",
          "coloraxis": {
           "colorbar": {
            "outlinewidth": 0,
            "ticks": ""
           }
          },
          "colorscale": {
           "diverging": [
            [
             0,
             "#8e0152"
            ],
            [
             0.1,
             "#c51b7d"
            ],
            [
             0.2,
             "#de77ae"
            ],
            [
             0.3,
             "#f1b6da"
            ],
            [
             0.4,
             "#fde0ef"
            ],
            [
             0.5,
             "#f7f7f7"
            ],
            [
             0.6,
             "#e6f5d0"
            ],
            [
             0.7,
             "#b8e186"
            ],
            [
             0.8,
             "#7fbc41"
            ],
            [
             0.9,
             "#4d9221"
            ],
            [
             1,
             "#276419"
            ]
           ],
           "sequential": [
            [
             0,
             "#0d0887"
            ],
            [
             0.1111111111111111,
             "#46039f"
            ],
            [
             0.2222222222222222,
             "#7201a8"
            ],
            [
             0.3333333333333333,
             "#9c179e"
            ],
            [
             0.4444444444444444,
             "#bd3786"
            ],
            [
             0.5555555555555556,
             "#d8576b"
            ],
            [
             0.6666666666666666,
             "#ed7953"
            ],
            [
             0.7777777777777778,
             "#fb9f3a"
            ],
            [
             0.8888888888888888,
             "#fdca26"
            ],
            [
             1,
             "#f0f921"
            ]
           ],
           "sequentialminus": [
            [
             0,
             "#0d0887"
            ],
            [
             0.1111111111111111,
             "#46039f"
            ],
            [
             0.2222222222222222,
             "#7201a8"
            ],
            [
             0.3333333333333333,
             "#9c179e"
            ],
            [
             0.4444444444444444,
             "#bd3786"
            ],
            [
             0.5555555555555556,
             "#d8576b"
            ],
            [
             0.6666666666666666,
             "#ed7953"
            ],
            [
             0.7777777777777778,
             "#fb9f3a"
            ],
            [
             0.8888888888888888,
             "#fdca26"
            ],
            [
             1,
             "#f0f921"
            ]
           ]
          },
          "colorway": [
           "#636efa",
           "#EF553B",
           "#00cc96",
           "#ab63fa",
           "#FFA15A",
           "#19d3f3",
           "#FF6692",
           "#B6E880",
           "#FF97FF",
           "#FECB52"
          ],
          "font": {
           "color": "#2a3f5f"
          },
          "geo": {
           "bgcolor": "white",
           "lakecolor": "white",
           "landcolor": "#E5ECF6",
           "showlakes": true,
           "showland": true,
           "subunitcolor": "white"
          },
          "hoverlabel": {
           "align": "left"
          },
          "hovermode": "closest",
          "mapbox": {
           "style": "light"
          },
          "paper_bgcolor": "white",
          "plot_bgcolor": "#E5ECF6",
          "polar": {
           "angularaxis": {
            "gridcolor": "white",
            "linecolor": "white",
            "ticks": ""
           },
           "bgcolor": "#E5ECF6",
           "radialaxis": {
            "gridcolor": "white",
            "linecolor": "white",
            "ticks": ""
           }
          },
          "scene": {
           "xaxis": {
            "backgroundcolor": "#E5ECF6",
            "gridcolor": "white",
            "gridwidth": 2,
            "linecolor": "white",
            "showbackground": true,
            "ticks": "",
            "zerolinecolor": "white"
           },
           "yaxis": {
            "backgroundcolor": "#E5ECF6",
            "gridcolor": "white",
            "gridwidth": 2,
            "linecolor": "white",
            "showbackground": true,
            "ticks": "",
            "zerolinecolor": "white"
           },
           "zaxis": {
            "backgroundcolor": "#E5ECF6",
            "gridcolor": "white",
            "gridwidth": 2,
            "linecolor": "white",
            "showbackground": true,
            "ticks": "",
            "zerolinecolor": "white"
           }
          },
          "shapedefaults": {
           "line": {
            "color": "#2a3f5f"
           }
          },
          "ternary": {
           "aaxis": {
            "gridcolor": "white",
            "linecolor": "white",
            "ticks": ""
           },
           "baxis": {
            "gridcolor": "white",
            "linecolor": "white",
            "ticks": ""
           },
           "bgcolor": "#E5ECF6",
           "caxis": {
            "gridcolor": "white",
            "linecolor": "white",
            "ticks": ""
           }
          },
          "title": {
           "x": 0.05
          },
          "xaxis": {
           "automargin": true,
           "gridcolor": "white",
           "linecolor": "white",
           "ticks": "",
           "title": {
            "standoff": 15
           },
           "zerolinecolor": "white",
           "zerolinewidth": 2
          },
          "yaxis": {
           "automargin": true,
           "gridcolor": "white",
           "linecolor": "white",
           "ticks": "",
           "title": {
            "standoff": 15
           },
           "zerolinecolor": "white",
           "zerolinewidth": 2
          }
         }
        }
       }
      }
     },
     "metadata": {},
     "output_type": "display_data"
    }
   ],
   "source": [
    "fig_sigma = go.Figure()\n",
    "fig_sigma.add_trace(go.Scatter(x=sigma.index, y=sigma.values, mode='markers', name='Raw Sigma'))\n",
    "fig_sigma.add_trace(go.Scatter(x=sigma.index, y=sigma_kernel, mode='lines', name='Kernel Regression'))\n",
    "fig_sigma.show()"
   ]
  },
  {
   "cell_type": "code",
   "execution_count": 18,
   "id": "d807229a",
   "metadata": {},
   "outputs": [
    {
     "data": {
      "application/vnd.plotly.v1+json": {
       "config": {
        "plotlyServerURL": "https://plot.ly"
       },
       "data": [
        {
         "mode": "markers",
         "name": "Raw sigma",
         "type": "scatter",
         "x": [
          2,
          3,
          4,
          5,
          6,
          7,
          8,
          9,
          10,
          11,
          12,
          13,
          14,
          15,
          16,
          17,
          18,
          19,
          20,
          21,
          22,
          23,
          24,
          25,
          26,
          27,
          28,
          29,
          30,
          31,
          32,
          33,
          34,
          35,
          36,
          37,
          38,
          39,
          40,
          41,
          42,
          43,
          44,
          45,
          46,
          47,
          48,
          49,
          50,
          51,
          52,
          53,
          54,
          55,
          56,
          57,
          58,
          59,
          60,
          61,
          62,
          63,
          64,
          65,
          66,
          67,
          68,
          69,
          70,
          71,
          72,
          73,
          74,
          75,
          76,
          77,
          78,
          79,
          80,
          81,
          82,
          83,
          84,
          85,
          86,
          87,
          88,
          89,
          90,
          91,
          92,
          93,
          94,
          95,
          96,
          97,
          98,
          99,
          100
         ],
         "y": [
          2.604263947945059,
          2.206821116336428,
          2.0213108558966515,
          1.9394621870413609,
          1.8654559456821935,
          1.7638809975922332,
          1.6827191265942543,
          1.6457925615517686,
          1.5985913351281047,
          1.5466825984815464,
          1.5047382722805613,
          1.4751231776337974,
          1.440768741547467,
          1.4129580566413154,
          1.3892165244357995,
          1.366972464111032,
          1.358217957676552,
          1.3427930542686615,
          1.324692325571273,
          1.3083780692084082,
          1.2927348009271997,
          1.2773339362763327,
          1.26469160775109,
          1.2506272036567596,
          1.2435366030223052,
          1.2348242235747877,
          1.22533809254684,
          1.2149852304245563,
          1.2062806773491415,
          1.1980231517876492,
          1.1894341535145847,
          1.181654274237328,
          1.1743513013682987,
          1.16790829185988,
          1.1612241955363742,
          1.15344964164529,
          1.1481891901325079,
          1.1417831255984754,
          1.1369141579871305,
          1.13149830828444,
          1.1258801549905018,
          1.120975794049152,
          1.116573811410102,
          1.111664093866952,
          1.1082433589072958,
          1.1036279177270452,
          1.0995817064608868,
          1.0960493748196012,
          1.0927243997317893,
          1.0892597232144994,
          1.0864613434211736,
          1.0839731272907651,
          1.0792788668049804,
          1.0750654070920176,
          1.071856273528863,
          1.0684956878795302,
          1.065270651426667,
          1.0609287460828907,
          1.0573429591916161,
          1.0551395954493843,
          1.0528923599210502,
          1.0520479137860481,
          1.0499855273640304,
          1.0473854098674702,
          1.045232545684073,
          1.0430551556639516,
          1.0416778291193676,
          1.0395026773467162,
          1.037160765558337,
          1.0347256180982933,
          1.0334421593397893,
          1.0317061078040108,
          1.0301231269619417,
          1.0287418505746904,
          1.027700148122045,
          1.0261593357815906,
          1.024058606363083,
          1.0230869168102283,
          1.0216201037147454,
          1.0203266856239972,
          1.0194136211084277,
          1.0180817295062612,
          1.0167300442301346,
          1.0156131004399325,
          1.0143501752350974,
          1.0132174880143239,
          1.01286478415979,
          1.0120122758359598,
          1.0105368745933287,
          1.0095267939277326,
          1.0092575518095914,
          1.0076798513937322,
          1.0069969496565563,
          1.0069877280425108,
          1.0062835688627851,
          1.0061429958339922,
          1.0056230474385988,
          1.0044541399349805,
          1.00449588129358
         ]
        }
       ],
       "layout": {
        "template": {
         "data": {
          "bar": [
           {
            "error_x": {
             "color": "#2a3f5f"
            },
            "error_y": {
             "color": "#2a3f5f"
            },
            "marker": {
             "line": {
              "color": "#E5ECF6",
              "width": 0.5
             },
             "pattern": {
              "fillmode": "overlay",
              "size": 10,
              "solidity": 0.2
             }
            },
            "type": "bar"
           }
          ],
          "barpolar": [
           {
            "marker": {
             "line": {
              "color": "#E5ECF6",
              "width": 0.5
             },
             "pattern": {
              "fillmode": "overlay",
              "size": 10,
              "solidity": 0.2
             }
            },
            "type": "barpolar"
           }
          ],
          "carpet": [
           {
            "aaxis": {
             "endlinecolor": "#2a3f5f",
             "gridcolor": "white",
             "linecolor": "white",
             "minorgridcolor": "white",
             "startlinecolor": "#2a3f5f"
            },
            "baxis": {
             "endlinecolor": "#2a3f5f",
             "gridcolor": "white",
             "linecolor": "white",
             "minorgridcolor": "white",
             "startlinecolor": "#2a3f5f"
            },
            "type": "carpet"
           }
          ],
          "choropleth": [
           {
            "colorbar": {
             "outlinewidth": 0,
             "ticks": ""
            },
            "type": "choropleth"
           }
          ],
          "contour": [
           {
            "colorbar": {
             "outlinewidth": 0,
             "ticks": ""
            },
            "colorscale": [
             [
              0,
              "#0d0887"
             ],
             [
              0.1111111111111111,
              "#46039f"
             ],
             [
              0.2222222222222222,
              "#7201a8"
             ],
             [
              0.3333333333333333,
              "#9c179e"
             ],
             [
              0.4444444444444444,
              "#bd3786"
             ],
             [
              0.5555555555555556,
              "#d8576b"
             ],
             [
              0.6666666666666666,
              "#ed7953"
             ],
             [
              0.7777777777777778,
              "#fb9f3a"
             ],
             [
              0.8888888888888888,
              "#fdca26"
             ],
             [
              1,
              "#f0f921"
             ]
            ],
            "type": "contour"
           }
          ],
          "contourcarpet": [
           {
            "colorbar": {
             "outlinewidth": 0,
             "ticks": ""
            },
            "type": "contourcarpet"
           }
          ],
          "heatmap": [
           {
            "colorbar": {
             "outlinewidth": 0,
             "ticks": ""
            },
            "colorscale": [
             [
              0,
              "#0d0887"
             ],
             [
              0.1111111111111111,
              "#46039f"
             ],
             [
              0.2222222222222222,
              "#7201a8"
             ],
             [
              0.3333333333333333,
              "#9c179e"
             ],
             [
              0.4444444444444444,
              "#bd3786"
             ],
             [
              0.5555555555555556,
              "#d8576b"
             ],
             [
              0.6666666666666666,
              "#ed7953"
             ],
             [
              0.7777777777777778,
              "#fb9f3a"
             ],
             [
              0.8888888888888888,
              "#fdca26"
             ],
             [
              1,
              "#f0f921"
             ]
            ],
            "type": "heatmap"
           }
          ],
          "heatmapgl": [
           {
            "colorbar": {
             "outlinewidth": 0,
             "ticks": ""
            },
            "colorscale": [
             [
              0,
              "#0d0887"
             ],
             [
              0.1111111111111111,
              "#46039f"
             ],
             [
              0.2222222222222222,
              "#7201a8"
             ],
             [
              0.3333333333333333,
              "#9c179e"
             ],
             [
              0.4444444444444444,
              "#bd3786"
             ],
             [
              0.5555555555555556,
              "#d8576b"
             ],
             [
              0.6666666666666666,
              "#ed7953"
             ],
             [
              0.7777777777777778,
              "#fb9f3a"
             ],
             [
              0.8888888888888888,
              "#fdca26"
             ],
             [
              1,
              "#f0f921"
             ]
            ],
            "type": "heatmapgl"
           }
          ],
          "histogram": [
           {
            "marker": {
             "pattern": {
              "fillmode": "overlay",
              "size": 10,
              "solidity": 0.2
             }
            },
            "type": "histogram"
           }
          ],
          "histogram2d": [
           {
            "colorbar": {
             "outlinewidth": 0,
             "ticks": ""
            },
            "colorscale": [
             [
              0,
              "#0d0887"
             ],
             [
              0.1111111111111111,
              "#46039f"
             ],
             [
              0.2222222222222222,
              "#7201a8"
             ],
             [
              0.3333333333333333,
              "#9c179e"
             ],
             [
              0.4444444444444444,
              "#bd3786"
             ],
             [
              0.5555555555555556,
              "#d8576b"
             ],
             [
              0.6666666666666666,
              "#ed7953"
             ],
             [
              0.7777777777777778,
              "#fb9f3a"
             ],
             [
              0.8888888888888888,
              "#fdca26"
             ],
             [
              1,
              "#f0f921"
             ]
            ],
            "type": "histogram2d"
           }
          ],
          "histogram2dcontour": [
           {
            "colorbar": {
             "outlinewidth": 0,
             "ticks": ""
            },
            "colorscale": [
             [
              0,
              "#0d0887"
             ],
             [
              0.1111111111111111,
              "#46039f"
             ],
             [
              0.2222222222222222,
              "#7201a8"
             ],
             [
              0.3333333333333333,
              "#9c179e"
             ],
             [
              0.4444444444444444,
              "#bd3786"
             ],
             [
              0.5555555555555556,
              "#d8576b"
             ],
             [
              0.6666666666666666,
              "#ed7953"
             ],
             [
              0.7777777777777778,
              "#fb9f3a"
             ],
             [
              0.8888888888888888,
              "#fdca26"
             ],
             [
              1,
              "#f0f921"
             ]
            ],
            "type": "histogram2dcontour"
           }
          ],
          "mesh3d": [
           {
            "colorbar": {
             "outlinewidth": 0,
             "ticks": ""
            },
            "type": "mesh3d"
           }
          ],
          "parcoords": [
           {
            "line": {
             "colorbar": {
              "outlinewidth": 0,
              "ticks": ""
             }
            },
            "type": "parcoords"
           }
          ],
          "pie": [
           {
            "automargin": true,
            "type": "pie"
           }
          ],
          "scatter": [
           {
            "fillpattern": {
             "fillmode": "overlay",
             "size": 10,
             "solidity": 0.2
            },
            "type": "scatter"
           }
          ],
          "scatter3d": [
           {
            "line": {
             "colorbar": {
              "outlinewidth": 0,
              "ticks": ""
             }
            },
            "marker": {
             "colorbar": {
              "outlinewidth": 0,
              "ticks": ""
             }
            },
            "type": "scatter3d"
           }
          ],
          "scattercarpet": [
           {
            "marker": {
             "colorbar": {
              "outlinewidth": 0,
              "ticks": ""
             }
            },
            "type": "scattercarpet"
           }
          ],
          "scattergeo": [
           {
            "marker": {
             "colorbar": {
              "outlinewidth": 0,
              "ticks": ""
             }
            },
            "type": "scattergeo"
           }
          ],
          "scattergl": [
           {
            "marker": {
             "colorbar": {
              "outlinewidth": 0,
              "ticks": ""
             }
            },
            "type": "scattergl"
           }
          ],
          "scattermapbox": [
           {
            "marker": {
             "colorbar": {
              "outlinewidth": 0,
              "ticks": ""
             }
            },
            "type": "scattermapbox"
           }
          ],
          "scatterpolar": [
           {
            "marker": {
             "colorbar": {
              "outlinewidth": 0,
              "ticks": ""
             }
            },
            "type": "scatterpolar"
           }
          ],
          "scatterpolargl": [
           {
            "marker": {
             "colorbar": {
              "outlinewidth": 0,
              "ticks": ""
             }
            },
            "type": "scatterpolargl"
           }
          ],
          "scatterternary": [
           {
            "marker": {
             "colorbar": {
              "outlinewidth": 0,
              "ticks": ""
             }
            },
            "type": "scatterternary"
           }
          ],
          "surface": [
           {
            "colorbar": {
             "outlinewidth": 0,
             "ticks": ""
            },
            "colorscale": [
             [
              0,
              "#0d0887"
             ],
             [
              0.1111111111111111,
              "#46039f"
             ],
             [
              0.2222222222222222,
              "#7201a8"
             ],
             [
              0.3333333333333333,
              "#9c179e"
             ],
             [
              0.4444444444444444,
              "#bd3786"
             ],
             [
              0.5555555555555556,
              "#d8576b"
             ],
             [
              0.6666666666666666,
              "#ed7953"
             ],
             [
              0.7777777777777778,
              "#fb9f3a"
             ],
             [
              0.8888888888888888,
              "#fdca26"
             ],
             [
              1,
              "#f0f921"
             ]
            ],
            "type": "surface"
           }
          ],
          "table": [
           {
            "cells": {
             "fill": {
              "color": "#EBF0F8"
             },
             "line": {
              "color": "white"
             }
            },
            "header": {
             "fill": {
              "color": "#C8D4E3"
             },
             "line": {
              "color": "white"
             }
            },
            "type": "table"
           }
          ]
         },
         "layout": {
          "annotationdefaults": {
           "arrowcolor": "#2a3f5f",
           "arrowhead": 0,
           "arrowwidth": 1
          },
          "autotypenumbers": "strict",
          "coloraxis": {
           "colorbar": {
            "outlinewidth": 0,
            "ticks": ""
           }
          },
          "colorscale": {
           "diverging": [
            [
             0,
             "#8e0152"
            ],
            [
             0.1,
             "#c51b7d"
            ],
            [
             0.2,
             "#de77ae"
            ],
            [
             0.3,
             "#f1b6da"
            ],
            [
             0.4,
             "#fde0ef"
            ],
            [
             0.5,
             "#f7f7f7"
            ],
            [
             0.6,
             "#e6f5d0"
            ],
            [
             0.7,
             "#b8e186"
            ],
            [
             0.8,
             "#7fbc41"
            ],
            [
             0.9,
             "#4d9221"
            ],
            [
             1,
             "#276419"
            ]
           ],
           "sequential": [
            [
             0,
             "#0d0887"
            ],
            [
             0.1111111111111111,
             "#46039f"
            ],
            [
             0.2222222222222222,
             "#7201a8"
            ],
            [
             0.3333333333333333,
             "#9c179e"
            ],
            [
             0.4444444444444444,
             "#bd3786"
            ],
            [
             0.5555555555555556,
             "#d8576b"
            ],
            [
             0.6666666666666666,
             "#ed7953"
            ],
            [
             0.7777777777777778,
             "#fb9f3a"
            ],
            [
             0.8888888888888888,
             "#fdca26"
            ],
            [
             1,
             "#f0f921"
            ]
           ],
           "sequentialminus": [
            [
             0,
             "#0d0887"
            ],
            [
             0.1111111111111111,
             "#46039f"
            ],
            [
             0.2222222222222222,
             "#7201a8"
            ],
            [
             0.3333333333333333,
             "#9c179e"
            ],
            [
             0.4444444444444444,
             "#bd3786"
            ],
            [
             0.5555555555555556,
             "#d8576b"
            ],
            [
             0.6666666666666666,
             "#ed7953"
            ],
            [
             0.7777777777777778,
             "#fb9f3a"
            ],
            [
             0.8888888888888888,
             "#fdca26"
            ],
            [
             1,
             "#f0f921"
            ]
           ]
          },
          "colorway": [
           "#636efa",
           "#EF553B",
           "#00cc96",
           "#ab63fa",
           "#FFA15A",
           "#19d3f3",
           "#FF6692",
           "#B6E880",
           "#FF97FF",
           "#FECB52"
          ],
          "font": {
           "color": "#2a3f5f"
          },
          "geo": {
           "bgcolor": "white",
           "lakecolor": "white",
           "landcolor": "#E5ECF6",
           "showlakes": true,
           "showland": true,
           "subunitcolor": "white"
          },
          "hoverlabel": {
           "align": "left"
          },
          "hovermode": "closest",
          "mapbox": {
           "style": "light"
          },
          "paper_bgcolor": "white",
          "plot_bgcolor": "#E5ECF6",
          "polar": {
           "angularaxis": {
            "gridcolor": "white",
            "linecolor": "white",
            "ticks": ""
           },
           "bgcolor": "#E5ECF6",
           "radialaxis": {
            "gridcolor": "white",
            "linecolor": "white",
            "ticks": ""
           }
          },
          "scene": {
           "xaxis": {
            "backgroundcolor": "#E5ECF6",
            "gridcolor": "white",
            "gridwidth": 2,
            "linecolor": "white",
            "showbackground": true,
            "ticks": "",
            "zerolinecolor": "white"
           },
           "yaxis": {
            "backgroundcolor": "#E5ECF6",
            "gridcolor": "white",
            "gridwidth": 2,
            "linecolor": "white",
            "showbackground": true,
            "ticks": "",
            "zerolinecolor": "white"
           },
           "zaxis": {
            "backgroundcolor": "#E5ECF6",
            "gridcolor": "white",
            "gridwidth": 2,
            "linecolor": "white",
            "showbackground": true,
            "ticks": "",
            "zerolinecolor": "white"
           }
          },
          "shapedefaults": {
           "line": {
            "color": "#2a3f5f"
           }
          },
          "ternary": {
           "aaxis": {
            "gridcolor": "white",
            "linecolor": "white",
            "ticks": ""
           },
           "baxis": {
            "gridcolor": "white",
            "linecolor": "white",
            "ticks": ""
           },
           "bgcolor": "#E5ECF6",
           "caxis": {
            "gridcolor": "white",
            "linecolor": "white",
            "ticks": ""
           }
          },
          "title": {
           "x": 0.05
          },
          "xaxis": {
           "automargin": true,
           "gridcolor": "white",
           "linecolor": "white",
           "ticks": "",
           "title": {
            "standoff": 15
           },
           "zerolinecolor": "white",
           "zerolinewidth": 2
          },
          "yaxis": {
           "automargin": true,
           "gridcolor": "white",
           "linecolor": "white",
           "ticks": "",
           "title": {
            "standoff": 15
           },
           "zerolinecolor": "white",
           "zerolinewidth": 2
          }
         }
        }
       }
      }
     },
     "metadata": {},
     "output_type": "display_data"
    }
   ],
   "source": [
    "fig_sigma_cumul = go.Figure()\n",
    "fig_sigma_cumul.add_trace(go.Scatter(x=sigma.index, y=cumul_mean(sigma.values), mode='markers', name='Raw sigma'))\n",
    "fig_sigma_cumul.show()"
   ]
  },
  {
   "cell_type": "code",
   "execution_count": 19,
   "id": "e0a7cbcd",
   "metadata": {},
   "outputs": [
    {
     "name": "stdout",
     "output_type": "stream",
     "text": [
      "number of lags: 8\n"
     ]
    },
    {
     "data": {
      "image/png": "[encoded data removed]",
      "text/plain": [
       "<Figure size 640x480 with 1 Axes>"
      ]
     },
     "metadata": {},
     "output_type": "display_data"
    }
   ],
   "source": [
    "# Using expanding ADF test to see if sigma becomes stationary over time\n",
    "\n",
    "lags = adfuller(sigma, autolag='AIC')[2]\n",
    "print(\"number of lags:\", lags)\n",
    "\n",
    "pvals = []\n",
    "q = 23\n",
    "for i in range(q, len(sigma)):\n",
    "    sample = sigma.iloc[:i]\n",
    "    adf_p = adfuller(sample, maxlag=lags, autolag=None)[1]\n",
    "    pvals.append(adf_p)\n",
    "\n",
    "plt.plot(sigma.index[q:], pvals, label = 'p-values')\n",
    "plt.axhline(y=0.05, color='r', linestyle='--', label='p=0.05')\n",
    "plt.axvline(x=q + 2, color='r', linestyle='--', c = 'black', label=f'{q + 2} days')\n",
    "plt.ylabel('p-value')\n",
    "plt.legend()\n",
    "plt.show()"
   ]
  },
  {
   "cell_type": "code",
   "execution_count": 20,
   "id": "22e930ca",
   "metadata": {},
   "outputs": [
    {
     "data": {
      "text/html": [
       "<div>\n",
       "<style scoped>\n",
       "    .dataframe tbody tr th:only-of-type {\n",
       "        vertical-align: middle;\n",
       "    }\n",
       "\n",
       "    .dataframe tbody tr th {\n",
       "        vertical-align: top;\n",
       "    }\n",
       "\n",
       "    .dataframe thead th {\n",
       "        text-align: right;\n",
       "    }\n",
       "</style>\n",
       "<table border=\"1\" class=\"dataframe\">\n",
       "  <thead>\n",
       "    <tr style=\"text-align: right;\">\n",
       "      <th></th>\n",
       "      <th></th>\n",
       "      <th>Squared resid</th>\n",
       "    </tr>\n",
       "    <tr>\n",
       "      <th>i</th>\n",
       "      <th>t</th>\n",
       "      <th></th>\n",
       "    </tr>\n",
       "  </thead>\n",
       "  <tbody>\n",
       "    <tr>\n",
       "      <th rowspan=\"5\" valign=\"top\">INCR</th>\n",
       "      <th>2</th>\n",
       "      <td>0.024060</td>\n",
       "    </tr>\n",
       "    <tr>\n",
       "      <th>3</th>\n",
       "      <td>0.013820</td>\n",
       "    </tr>\n",
       "    <tr>\n",
       "      <th>4</th>\n",
       "      <td>0.000865</td>\n",
       "    </tr>\n",
       "    <tr>\n",
       "      <th>5</th>\n",
       "      <td>0.000018</td>\n",
       "    </tr>\n",
       "    <tr>\n",
       "      <th>6</th>\n",
       "      <td>0.000465</td>\n",
       "    </tr>\n",
       "    <tr>\n",
       "      <th>...</th>\n",
       "      <th>...</th>\n",
       "      <td>...</td>\n",
       "    </tr>\n",
       "    <tr>\n",
       "      <th rowspan=\"5\" valign=\"top\">TEL</th>\n",
       "      <th>96</th>\n",
       "      <td>0.000404</td>\n",
       "    </tr>\n",
       "    <tr>\n",
       "      <th>97</th>\n",
       "      <td>0.000353</td>\n",
       "    </tr>\n",
       "    <tr>\n",
       "      <th>98</th>\n",
       "      <td>0.000400</td>\n",
       "    </tr>\n",
       "    <tr>\n",
       "      <th>99</th>\n",
       "      <td>0.000163</td>\n",
       "    </tr>\n",
       "    <tr>\n",
       "      <th>100</th>\n",
       "      <td>0.000062</td>\n",
       "    </tr>\n",
       "  </tbody>\n",
       "</table>\n",
       "<p>541051 rows × 1 columns</p>\n",
       "</div>"
      ],
      "text/plain": [
       "          Squared resid\n",
       "i    t                 \n",
       "INCR 2         0.024060\n",
       "     3         0.013820\n",
       "     4         0.000865\n",
       "     5         0.000018\n",
       "     6         0.000465\n",
       "...                 ...\n",
       "TEL  96        0.000404\n",
       "     97        0.000353\n",
       "     98        0.000400\n",
       "     99        0.000163\n",
       "     100       0.000062\n",
       "\n",
       "[541051 rows x 1 columns]"
      ]
     },
     "execution_count": 20,
     "metadata": {},
     "output_type": "execute_result"
    }
   ],
   "source": [
    "resids_sq = (resids ** 2).rename(columns={'resid': 'Squared resid'})\n",
    "resids_sq"
   ]
  },
  {
   "cell_type": "markdown",
   "id": "f237a465",
   "metadata": {},
   "source": [
    "### If indeed $ Var(u_{it}) = k_i \\times \\sigma_t^2 \\Rightarrow  Var(\\frac{u_{it}}{\\sqrt{k_i} \\times \\sigma_t}) = 1 \\Rightarrow E(\\frac{u_{it}^2}{k_i \\times \\sigma_t^2}) = 1$, so the sample must be homoskedastic\n",
    "### Let $ \\frac{\\hat{u}_{it}}{\\sqrt{\\hat{k}_i} \\times \\hat{\\sigma}_t} = \\hat{v}_{it} \\Rightarrow \\frac{\\hat{u}_{it}^2}{\\hat{k}_i \\times \\hat{\\sigma}_t^2} = \\hat{v}_{it}^2 $"
   ]
  },
  {
   "cell_type": "markdown",
   "id": "1ebe65c1",
   "metadata": {},
   "source": [
    "To test for heteroskedasticity, use Breusch-Pagan test:\n",
    "\n",
    "1. Estimate $\\hat{v}_{it}$.\n",
    "\n",
    "2. Regress the squared residuals on entity and time dummies to get an auxiliery equation:\n",
    "\n",
    "$$\n",
    "\\hat{v}_{it}^2 = \\alpha + \\sum_{i=1}^{N-1} \\delta_i \\times D_i^{Asset} + \\sum_{t=1}^{T-1} \\theta_t \\times D_t^{Time} + \\varepsilon_{it},\n",
    "$$\n",
    "\n",
    "3. Compute the test statistic:\n",
    "\n",
    "$$\n",
    "stat = \\#\\text{Obs} \\times R_{\\text{aux}}^2,\n",
    "$$\n",
    "\n",
    "- $H_0$: homoskedasticity; $\\delta_i = 0$ and $\\theta_t = 0$ $\\forall i, t $.\n",
    "\n",
    "- $H_a$: heteroskedasticity; $\\exists$ $\\delta_i \\ne 0$ or $\\theta_t \\ne 0$.\n",
    "\n",
    "    Under the null hypothesis of homoskedasticity, $stat \\sim \\Chi^2(N + T - 2)$\n"
   ]
  },
  {
   "cell_type": "code",
   "execution_count": 21,
   "id": "ea8606d7",
   "metadata": {},
   "outputs": [],
   "source": [
    "rows = []\n",
    "for (i,t) in resids_sq.index:\n",
    "    rows.append(sigma[t] * k[i])\n",
    "\n",
    "var_pred = pd.Series(rows, index=resids_sq.index)\n",
    "std_pred = np.sqrt(var_pred)"
   ]
  },
  {
   "cell_type": "code",
   "execution_count": 22,
   "id": "35a5a697",
   "metadata": {},
   "outputs": [
    {
     "name": "stdout",
     "output_type": "stream",
     "text": [
      "R2 (including fixed effects) is: 0.0\n",
      "p-value is: 1.0\n"
     ]
    }
   ],
   "source": [
    "v_sqr = resids_sq['Squared resid'] / var_pred\n",
    "\n",
    "auxiliery = PanelOLS(v_sqr, df[['const']], entity_effects=True, time_effects=True).fit()\n",
    "print(\"R2 (including fixed effects) is:\", auxiliery.rsquared_inclusive)\n",
    "\n",
    "chi_st = auxiliery.rsquared_inclusive * len(v_sqr)\n",
    "print(\"p-value is:\",stats.chi2.sf(chi_st, 0.5 * (R.index.nunique() - 1 + R.columns.nunique() - 1)))"
   ]
  },
  {
   "cell_type": "markdown",
   "id": "f666d437",
   "metadata": {},
   "source": [
    "### The sample is homoskedastic at 5% $\\Rightarrow$ the variance prediction is satisfactory"
   ]
  },
  {
   "cell_type": "markdown",
   "id": "9c67dfa2",
   "metadata": {},
   "source": [
    "<!-- ### $ Var(u_{it}) = \\alpha \\times k_i \\times \\sigma_t^2 $\n",
    "### Model as: \n",
    "### $ \\hat u_{it}^ 2 = e^{(\\phi_0 + \\sum_{i=0}^{N}(\\phi_{1,i} \\times D_i^{Asset}) + \\sum_{t=0}^{T}(\\phi_{2,t} \\times D_t^{Time}) + \\omega_{it})}$\n",
    "### $ \\log{u_{it}^ 2} = \\phi_0 + \\sum_{i=0}^{N}(\\phi_{1,i} \\times D_i^{Asset}) + \\sum_{t=0}^{T}(\\phi_{2,t} \\times D_t^{Time}) + \\omega_{it} $\n",
    "\n",
    "### Then $ \\hat{\\alpha} = e^{\\hat{\\phi}_0}, \\hat{k}_i = e^{\\sum_{i=0}^{N}(\\hat{\\phi}_{1,i} \\times D_i^{Asset})}, \\hat{\\sigma}_t^2 = e^{\\sum_{t=0}^{T}(\\hat{\\phi}_{2,t} \\times D_t^{Time})}$ -->"
   ]
  },
  {
   "cell_type": "markdown",
   "id": "22f2797d",
   "metadata": {},
   "source": [
    "# Test for overall significance"
   ]
  },
  {
   "cell_type": "markdown",
   "id": "e6a5c6cf",
   "metadata": {},
   "source": [
    "For each asset check if GenNorm, LogNorm or Student T distributions are significantly good fit (p-val > 0.01) for the returns using KS-test"
   ]
  },
  {
   "cell_type": "code",
   "execution_count": 23,
   "id": "c17785b7",
   "metadata": {},
   "outputs": [],
   "source": [
    "### Takes a while to run\n",
    "\n",
    "# vals = {}\n",
    "# empty = 0\n",
    "\n",
    "# def check_gennorm_fit(data) -> float:\n",
    "#     data = data.replace([np.inf, -np.inf], np.nan).dropna()\n",
    "#     beta_hat, loc_hat, scale_hat = stats.gennorm.fit(data)\n",
    "#     cdf_fitted = lambda x: stats.gennorm.cdf(x, beta_hat, loc=loc_hat, scale=scale_hat)\n",
    "#     _, pval = stats.kstest(data, cdf_fitted)\n",
    "#     return pval\n",
    "\n",
    "# def check_lognorm_fit(data) -> float:\n",
    "#     data = data.replace([np.inf, -np.inf], np.nan).dropna()\n",
    "#     s_hat, loc_hat, scale_hat = stats.lognorm.fit(data)\n",
    "#     cdf_fitted = lambda x: stats.lognorm.cdf(x, s_hat, loc=loc_hat, scale=scale_hat)\n",
    "#     _, pval = stats.kstest(data, cdf_fitted)\n",
    "#     return pval\n",
    "\n",
    "# def check_t_fit(data: pd.Series) -> float:\n",
    "#     data = data.replace([np.inf, -np.inf], np.nan).dropna()\n",
    "#     df_hat, loc_hat, scale_hat = stats.t.fit(data)\n",
    "#     cdf = lambda v: stats.t.cdf(v, df_hat, loc=loc_hat, scale=scale_hat)\n",
    "#     _, pval = stats.kstest(data, cdf)\n",
    "#     return pval\n",
    "\n",
    "# for col in tqdm(R.columns):\n",
    "#     x = R[col]\n",
    "#     try:\n",
    "#         pval_gennorm = check_gennorm_fit(x)\n",
    "#         pval_lognorm = check_lognorm_fit(x)\n",
    "#         pval_t = check_t_fit(x)\n",
    "#         vals[col] = {'GenNorm': pval_gennorm, 'LogNorm': pval_lognorm, 'T': pval_t}\n",
    "#     except: empty += 1\n",
    "\n",
    "# dist_table = pd.DataFrame(vals)\n",
    "\n",
    "# dist_table.T.sort_index().to_csv('../data/distribution_table.csv')"
   ]
  },
  {
   "cell_type": "code",
   "execution_count": 24,
   "id": "310dff54",
   "metadata": {},
   "outputs": [
    {
     "data": {
      "text/html": [
       "<div>\n",
       "<style scoped>\n",
       "    .dataframe tbody tr th:only-of-type {\n",
       "        vertical-align: middle;\n",
       "    }\n",
       "\n",
       "    .dataframe tbody tr th {\n",
       "        vertical-align: top;\n",
       "    }\n",
       "\n",
       "    .dataframe thead th {\n",
       "        text-align: right;\n",
       "    }\n",
       "</style>\n",
       "<table border=\"1\" class=\"dataframe\">\n",
       "  <thead>\n",
       "    <tr style=\"text-align: right;\">\n",
       "      <th></th>\n",
       "      <th>GenNorm</th>\n",
       "      <th>LogNorm</th>\n",
       "      <th>T</th>\n",
       "    </tr>\n",
       "  </thead>\n",
       "  <tbody>\n",
       "    <tr>\n",
       "      <th>A</th>\n",
       "      <td>8.724509e-01</td>\n",
       "      <td>6.187192e-01</td>\n",
       "      <td>9.445423e-01</td>\n",
       "    </tr>\n",
       "    <tr>\n",
       "      <th>AA</th>\n",
       "      <td>7.159728e-01</td>\n",
       "      <td>6.417054e-01</td>\n",
       "      <td>5.799641e-01</td>\n",
       "    </tr>\n",
       "    <tr>\n",
       "      <th>AACG</th>\n",
       "      <td>9.778659e-01</td>\n",
       "      <td>2.376695e-02</td>\n",
       "      <td>8.724862e-01</td>\n",
       "    </tr>\n",
       "    <tr>\n",
       "      <th>AACI</th>\n",
       "      <td>1.685581e-03</td>\n",
       "      <td>5.192771e-07</td>\n",
       "      <td>4.144383e-04</td>\n",
       "    </tr>\n",
       "    <tr>\n",
       "      <th>AACT</th>\n",
       "      <td>3.023762e-07</td>\n",
       "      <td>2.060918e-04</td>\n",
       "      <td>5.078614e-04</td>\n",
       "    </tr>\n",
       "    <tr>\n",
       "      <th>...</th>\n",
       "      <td>...</td>\n",
       "      <td>...</td>\n",
       "      <td>...</td>\n",
       "    </tr>\n",
       "    <tr>\n",
       "      <th>ZVRA</th>\n",
       "      <td>8.337344e-01</td>\n",
       "      <td>4.534683e-01</td>\n",
       "      <td>9.112191e-01</td>\n",
       "    </tr>\n",
       "    <tr>\n",
       "      <th>ZVSA</th>\n",
       "      <td>2.830516e-13</td>\n",
       "      <td>1.490964e-13</td>\n",
       "      <td>1.475532e-19</td>\n",
       "    </tr>\n",
       "    <tr>\n",
       "      <th>ZWS</th>\n",
       "      <td>8.638181e-01</td>\n",
       "      <td>8.130364e-02</td>\n",
       "      <td>9.490471e-01</td>\n",
       "    </tr>\n",
       "    <tr>\n",
       "      <th>ZYME</th>\n",
       "      <td>9.499736e-01</td>\n",
       "      <td>4.051373e-01</td>\n",
       "      <td>8.712166e-01</td>\n",
       "    </tr>\n",
       "    <tr>\n",
       "      <th>ZYXI</th>\n",
       "      <td>1.276436e-01</td>\n",
       "      <td>1.509981e-02</td>\n",
       "      <td>7.312671e-01</td>\n",
       "    </tr>\n",
       "  </tbody>\n",
       "</table>\n",
       "<p>5467 rows × 3 columns</p>\n",
       "</div>"
      ],
      "text/plain": [
       "           GenNorm       LogNorm             T\n",
       "A     8.724509e-01  6.187192e-01  9.445423e-01\n",
       "AA    7.159728e-01  6.417054e-01  5.799641e-01\n",
       "AACG  9.778659e-01  2.376695e-02  8.724862e-01\n",
       "AACI  1.685581e-03  5.192771e-07  4.144383e-04\n",
       "AACT  3.023762e-07  2.060918e-04  5.078614e-04\n",
       "...            ...           ...           ...\n",
       "ZVRA  8.337344e-01  4.534683e-01  9.112191e-01\n",
       "ZVSA  2.830516e-13  1.490964e-13  1.475532e-19\n",
       "ZWS   8.638181e-01  8.130364e-02  9.490471e-01\n",
       "ZYME  9.499736e-01  4.051373e-01  8.712166e-01\n",
       "ZYXI  1.276436e-01  1.509981e-02  7.312671e-01\n",
       "\n",
       "[5467 rows x 3 columns]"
      ]
     },
     "execution_count": 24,
     "metadata": {},
     "output_type": "execute_result"
    }
   ],
   "source": [
    "dist_table = pd.read_csv('../data/distribution_table.csv', index_col=0)\n",
    "dist_table"
   ]
  },
  {
   "cell_type": "code",
   "execution_count": 25,
   "id": "79a6542b",
   "metadata": {},
   "outputs": [
    {
     "name": "stdout",
     "output_type": "stream",
     "text": [
      "Share that fits to GenNorm: 0.6445948417779404\n",
      "Share that fits to LogNorm: 0.6638009877446497\n",
      "Share that fits to T: 0.7274556429486007\n"
     ]
    }
   ],
   "source": [
    "print(\"Share that fits to GenNorm:\", dist_table[dist_table['GenNorm'] > 0.01].shape[0] / len(dist_table))\n",
    "print(\"Share that fits to LogNorm:\", dist_table[dist_table['LogNorm'] > 0.01].shape[0] / len(dist_table))\n",
    "print(\"Share that fits to T:\", dist_table[dist_table['T'] > 0.01].shape[0] / len(dist_table))"
   ]
  },
  {
   "cell_type": "markdown",
   "id": "f165492f",
   "metadata": {},
   "source": [
    "### Further use Student's T as the distribution for LR test"
   ]
  },
  {
   "cell_type": "code",
   "execution_count": 26,
   "id": "8b2b7ef7",
   "metadata": {},
   "outputs": [
    {
     "data": {
      "text/html": [
       "<div>\n",
       "<style scoped>\n",
       "    .dataframe tbody tr th:only-of-type {\n",
       "        vertical-align: middle;\n",
       "    }\n",
       "\n",
       "    .dataframe tbody tr th {\n",
       "        vertical-align: top;\n",
       "    }\n",
       "\n",
       "    .dataframe thead th {\n",
       "        text-align: right;\n",
       "    }\n",
       "</style>\n",
       "<table border=\"1\" class=\"dataframe\">\n",
       "  <thead>\n",
       "    <tr style=\"text-align: right;\">\n",
       "      <th></th>\n",
       "      <th>A</th>\n",
       "      <th>AA</th>\n",
       "      <th>AACG</th>\n",
       "      <th>AADI</th>\n",
       "      <th>AAGR</th>\n",
       "      <th>AAL</th>\n",
       "      <th>AAMC</th>\n",
       "      <th>AAN</th>\n",
       "      <th>AAOI</th>\n",
       "      <th>AAP</th>\n",
       "      <th>...</th>\n",
       "      <th>ZTO</th>\n",
       "      <th>ZTS</th>\n",
       "      <th>ZUMZ</th>\n",
       "      <th>ZUO</th>\n",
       "      <th>ZURA</th>\n",
       "      <th>ZVIA</th>\n",
       "      <th>ZVRA</th>\n",
       "      <th>ZWS</th>\n",
       "      <th>ZYME</th>\n",
       "      <th>ZYXI</th>\n",
       "    </tr>\n",
       "  </thead>\n",
       "  <tbody>\n",
       "    <tr>\n",
       "      <th>1</th>\n",
       "      <td>NaN</td>\n",
       "      <td>NaN</td>\n",
       "      <td>NaN</td>\n",
       "      <td>NaN</td>\n",
       "      <td>NaN</td>\n",
       "      <td>NaN</td>\n",
       "      <td>NaN</td>\n",
       "      <td>NaN</td>\n",
       "      <td>NaN</td>\n",
       "      <td>NaN</td>\n",
       "      <td>...</td>\n",
       "      <td>NaN</td>\n",
       "      <td>NaN</td>\n",
       "      <td>NaN</td>\n",
       "      <td>NaN</td>\n",
       "      <td>NaN</td>\n",
       "      <td>NaN</td>\n",
       "      <td>NaN</td>\n",
       "      <td>NaN</td>\n",
       "      <td>NaN</td>\n",
       "      <td>NaN</td>\n",
       "    </tr>\n",
       "    <tr>\n",
       "      <th>2</th>\n",
       "      <td>-0.082386</td>\n",
       "      <td>-0.021798</td>\n",
       "      <td>-0.028570</td>\n",
       "      <td>-0.022222</td>\n",
       "      <td>-0.003571</td>\n",
       "      <td>0.062176</td>\n",
       "      <td>-0.066667</td>\n",
       "      <td>-0.158491</td>\n",
       "      <td>0.014056</td>\n",
       "      <td>0.027857</td>\n",
       "      <td>...</td>\n",
       "      <td>0.025347</td>\n",
       "      <td>0.000323</td>\n",
       "      <td>-0.014475</td>\n",
       "      <td>0.030000</td>\n",
       "      <td>3.143646</td>\n",
       "      <td>0.008791</td>\n",
       "      <td>-0.008929</td>\n",
       "      <td>0.055000</td>\n",
       "      <td>0.005385</td>\n",
       "      <td>0.024823</td>\n",
       "    </tr>\n",
       "    <tr>\n",
       "      <th>3</th>\n",
       "      <td>0.089783</td>\n",
       "      <td>-0.019499</td>\n",
       "      <td>0.123528</td>\n",
       "      <td>0.079545</td>\n",
       "      <td>-0.000512</td>\n",
       "      <td>-0.014146</td>\n",
       "      <td>-0.044218</td>\n",
       "      <td>-0.139462</td>\n",
       "      <td>-0.009901</td>\n",
       "      <td>-0.033878</td>\n",
       "      <td>...</td>\n",
       "      <td>-0.003531</td>\n",
       "      <td>0.000645</td>\n",
       "      <td>-0.016728</td>\n",
       "      <td>0.000000</td>\n",
       "      <td>0.107000</td>\n",
       "      <td>0.000000</td>\n",
       "      <td>0.002252</td>\n",
       "      <td>0.029858</td>\n",
       "      <td>0.002295</td>\n",
       "      <td>0.003460</td>\n",
       "    </tr>\n",
       "    <tr>\n",
       "      <th>4</th>\n",
       "      <td>-0.090909</td>\n",
       "      <td>-0.022726</td>\n",
       "      <td>-0.004189</td>\n",
       "      <td>-0.035158</td>\n",
       "      <td>-0.001025</td>\n",
       "      <td>0.039585</td>\n",
       "      <td>0.015658</td>\n",
       "      <td>-0.040646</td>\n",
       "      <td>0.000000</td>\n",
       "      <td>-0.039904</td>\n",
       "      <td>...</td>\n",
       "      <td>-0.054932</td>\n",
       "      <td>-0.000322</td>\n",
       "      <td>0.006224</td>\n",
       "      <td>-0.050971</td>\n",
       "      <td>-0.114122</td>\n",
       "      <td>-0.044299</td>\n",
       "      <td>-0.005843</td>\n",
       "      <td>-0.008284</td>\n",
       "      <td>0.013740</td>\n",
       "      <td>-0.003448</td>\n",
       "    </tr>\n",
       "    <tr>\n",
       "      <th>5</th>\n",
       "      <td>0.026562</td>\n",
       "      <td>-0.005814</td>\n",
       "      <td>-0.001052</td>\n",
       "      <td>-0.018110</td>\n",
       "      <td>0.000000</td>\n",
       "      <td>0.023322</td>\n",
       "      <td>0.067274</td>\n",
       "      <td>-0.008691</td>\n",
       "      <td>-0.003000</td>\n",
       "      <td>0.108313</td>\n",
       "      <td>...</td>\n",
       "      <td>0.000000</td>\n",
       "      <td>0.031260</td>\n",
       "      <td>-0.030928</td>\n",
       "      <td>0.000512</td>\n",
       "      <td>-0.427600</td>\n",
       "      <td>-0.011398</td>\n",
       "      <td>-0.000904</td>\n",
       "      <td>-0.000928</td>\n",
       "      <td>-0.012801</td>\n",
       "      <td>-0.013841</td>\n",
       "    </tr>\n",
       "    <tr>\n",
       "      <th>...</th>\n",
       "      <td>...</td>\n",
       "      <td>...</td>\n",
       "      <td>...</td>\n",
       "      <td>...</td>\n",
       "      <td>...</td>\n",
       "      <td>...</td>\n",
       "      <td>...</td>\n",
       "      <td>...</td>\n",
       "      <td>...</td>\n",
       "      <td>...</td>\n",
       "      <td>...</td>\n",
       "      <td>...</td>\n",
       "      <td>...</td>\n",
       "      <td>...</td>\n",
       "      <td>...</td>\n",
       "      <td>...</td>\n",
       "      <td>...</td>\n",
       "      <td>...</td>\n",
       "      <td>...</td>\n",
       "      <td>...</td>\n",
       "      <td>...</td>\n",
       "    </tr>\n",
       "    <tr>\n",
       "      <th>96</th>\n",
       "      <td>0.036765</td>\n",
       "      <td>-0.007812</td>\n",
       "      <td>0.010482</td>\n",
       "      <td>-0.033413</td>\n",
       "      <td>0.000406</td>\n",
       "      <td>0.039000</td>\n",
       "      <td>0.252837</td>\n",
       "      <td>0.002011</td>\n",
       "      <td>-0.021110</td>\n",
       "      <td>0.001633</td>\n",
       "      <td>...</td>\n",
       "      <td>-0.016794</td>\n",
       "      <td>-0.005773</td>\n",
       "      <td>-0.017129</td>\n",
       "      <td>0.051528</td>\n",
       "      <td>0.016077</td>\n",
       "      <td>0.058985</td>\n",
       "      <td>0.009784</td>\n",
       "      <td>-0.020806</td>\n",
       "      <td>-0.015796</td>\n",
       "      <td>0.014492</td>\n",
       "    </tr>\n",
       "    <tr>\n",
       "      <th>97</th>\n",
       "      <td>0.083172</td>\n",
       "      <td>-0.026246</td>\n",
       "      <td>0.009682</td>\n",
       "      <td>0.014815</td>\n",
       "      <td>-0.005076</td>\n",
       "      <td>0.052294</td>\n",
       "      <td>0.161833</td>\n",
       "      <td>0.025291</td>\n",
       "      <td>0.001597</td>\n",
       "      <td>0.018745</td>\n",
       "      <td>...</td>\n",
       "      <td>-0.014752</td>\n",
       "      <td>-0.026129</td>\n",
       "      <td>0.028233</td>\n",
       "      <td>-0.078632</td>\n",
       "      <td>0.037975</td>\n",
       "      <td>0.011658</td>\n",
       "      <td>0.023967</td>\n",
       "      <td>0.025232</td>\n",
       "      <td>-0.046914</td>\n",
       "      <td>-0.035713</td>\n",
       "    </tr>\n",
       "    <tr>\n",
       "      <th>98</th>\n",
       "      <td>0.161905</td>\n",
       "      <td>-0.008086</td>\n",
       "      <td>0.031507</td>\n",
       "      <td>0.038929</td>\n",
       "      <td>0.002041</td>\n",
       "      <td>0.028963</td>\n",
       "      <td>-0.040551</td>\n",
       "      <td>0.000391</td>\n",
       "      <td>0.116427</td>\n",
       "      <td>-0.002000</td>\n",
       "      <td>...</td>\n",
       "      <td>0.007880</td>\n",
       "      <td>0.013581</td>\n",
       "      <td>0.018644</td>\n",
       "      <td>0.032777</td>\n",
       "      <td>0.021341</td>\n",
       "      <td>0.093470</td>\n",
       "      <td>-0.001494</td>\n",
       "      <td>0.020078</td>\n",
       "      <td>-0.009067</td>\n",
       "      <td>-0.029630</td>\n",
       "    </tr>\n",
       "    <tr>\n",
       "      <th>99</th>\n",
       "      <td>-0.121926</td>\n",
       "      <td>-0.010870</td>\n",
       "      <td>-0.001992</td>\n",
       "      <td>-0.021077</td>\n",
       "      <td>-0.001018</td>\n",
       "      <td>-0.010963</td>\n",
       "      <td>-0.031596</td>\n",
       "      <td>-0.052838</td>\n",
       "      <td>-0.024286</td>\n",
       "      <td>0.022044</td>\n",
       "      <td>...</td>\n",
       "      <td>-0.022674</td>\n",
       "      <td>-0.007190</td>\n",
       "      <td>0.053577</td>\n",
       "      <td>0.018263</td>\n",
       "      <td>0.004478</td>\n",
       "      <td>0.023419</td>\n",
       "      <td>0.033416</td>\n",
       "      <td>-0.014603</td>\n",
       "      <td>0.036601</td>\n",
       "      <td>-0.061068</td>\n",
       "    </tr>\n",
       "    <tr>\n",
       "      <th>100</th>\n",
       "      <td>-0.057760</td>\n",
       "      <td>-0.013736</td>\n",
       "      <td>-0.003992</td>\n",
       "      <td>-0.014354</td>\n",
       "      <td>0.000000</td>\n",
       "      <td>-0.006890</td>\n",
       "      <td>-0.175000</td>\n",
       "      <td>0.033058</td>\n",
       "      <td>0.099561</td>\n",
       "      <td>0.006863</td>\n",
       "      <td>...</td>\n",
       "      <td>0.000000</td>\n",
       "      <td>0.036538</td>\n",
       "      <td>-0.009476</td>\n",
       "      <td>-0.189062</td>\n",
       "      <td>0.016345</td>\n",
       "      <td>-0.094966</td>\n",
       "      <td>-0.013031</td>\n",
       "      <td>-0.012242</td>\n",
       "      <td>0.040353</td>\n",
       "      <td>-0.276424</td>\n",
       "    </tr>\n",
       "  </tbody>\n",
       "</table>\n",
       "<p>100 rows × 3977 columns</p>\n",
       "</div>"
      ],
      "text/plain": [
       "            A        AA      AACG      AADI      AAGR       AAL      AAMC  \\\n",
       "1         NaN       NaN       NaN       NaN       NaN       NaN       NaN   \n",
       "2   -0.082386 -0.021798 -0.028570 -0.022222 -0.003571  0.062176 -0.066667   \n",
       "3    0.089783 -0.019499  0.123528  0.079545 -0.000512 -0.014146 -0.044218   \n",
       "4   -0.090909 -0.022726 -0.004189 -0.035158 -0.001025  0.039585  0.015658   \n",
       "5    0.026562 -0.005814 -0.001052 -0.018110  0.000000  0.023322  0.067274   \n",
       "..        ...       ...       ...       ...       ...       ...       ...   \n",
       "96   0.036765 -0.007812  0.010482 -0.033413  0.000406  0.039000  0.252837   \n",
       "97   0.083172 -0.026246  0.009682  0.014815 -0.005076  0.052294  0.161833   \n",
       "98   0.161905 -0.008086  0.031507  0.038929  0.002041  0.028963 -0.040551   \n",
       "99  -0.121926 -0.010870 -0.001992 -0.021077 -0.001018 -0.010963 -0.031596   \n",
       "100 -0.057760 -0.013736 -0.003992 -0.014354  0.000000 -0.006890 -0.175000   \n",
       "\n",
       "          AAN      AAOI       AAP  ...       ZTO       ZTS      ZUMZ  \\\n",
       "1         NaN       NaN       NaN  ...       NaN       NaN       NaN   \n",
       "2   -0.158491  0.014056  0.027857  ...  0.025347  0.000323 -0.014475   \n",
       "3   -0.139462 -0.009901 -0.033878  ... -0.003531  0.000645 -0.016728   \n",
       "4   -0.040646  0.000000 -0.039904  ... -0.054932 -0.000322  0.006224   \n",
       "5   -0.008691 -0.003000  0.108313  ...  0.000000  0.031260 -0.030928   \n",
       "..        ...       ...       ...  ...       ...       ...       ...   \n",
       "96   0.002011 -0.021110  0.001633  ... -0.016794 -0.005773 -0.017129   \n",
       "97   0.025291  0.001597  0.018745  ... -0.014752 -0.026129  0.028233   \n",
       "98   0.000391  0.116427 -0.002000  ...  0.007880  0.013581  0.018644   \n",
       "99  -0.052838 -0.024286  0.022044  ... -0.022674 -0.007190  0.053577   \n",
       "100  0.033058  0.099561  0.006863  ...  0.000000  0.036538 -0.009476   \n",
       "\n",
       "          ZUO      ZURA      ZVIA      ZVRA       ZWS      ZYME      ZYXI  \n",
       "1         NaN       NaN       NaN       NaN       NaN       NaN       NaN  \n",
       "2    0.030000  3.143646  0.008791 -0.008929  0.055000  0.005385  0.024823  \n",
       "3    0.000000  0.107000  0.000000  0.002252  0.029858  0.002295  0.003460  \n",
       "4   -0.050971 -0.114122 -0.044299 -0.005843 -0.008284  0.013740 -0.003448  \n",
       "5    0.000512 -0.427600 -0.011398 -0.000904 -0.000928 -0.012801 -0.013841  \n",
       "..        ...       ...       ...       ...       ...       ...       ...  \n",
       "96   0.051528  0.016077  0.058985  0.009784 -0.020806 -0.015796  0.014492  \n",
       "97  -0.078632  0.037975  0.011658  0.023967  0.025232 -0.046914 -0.035713  \n",
       "98   0.032777  0.021341  0.093470 -0.001494  0.020078 -0.009067 -0.029630  \n",
       "99   0.018263  0.004478  0.023419  0.033416 -0.014603  0.036601 -0.061068  \n",
       "100 -0.189062  0.016345 -0.094966 -0.013031 -0.012242  0.040353 -0.276424  \n",
       "\n",
       "[100 rows x 3977 columns]"
      ]
     },
     "execution_count": 26,
     "metadata": {},
     "output_type": "execute_result"
    }
   ],
   "source": [
    "LR_columns = dist_table[dist_table['T'] > 0.01].index.values\n",
    "LR_sample = R[LR_columns]\n",
    "LR_sample"
   ]
  },
  {
   "cell_type": "markdown",
   "id": "9002cf12",
   "metadata": {},
   "source": [
    "We want to test, for the whole sample, the null hypothesis that time effects are not significant:\n",
    "\n",
    "$ H_0: R_{it} = \\beta + \\lambda_i + u_{it}; u_{it} \\sim \\text{Student}_{\\nu}(0, k_i); \\text{i.e}\\ \\gamma_t = 0 \\ \\text{and} \\ \\sigma_t^2 = 1 \\ \\forall $ \\\n",
    "$ H_a: R_{it} = \\beta + \\lambda_i + \\gamma_t + u_{it}; u_{it} \\sim \\text{Student}_{\\nu}(0, k_i\\sigma_t^2); \\text{i.e}\\ \\exists t: \\gamma_t \\neq 0\\ \\text{or}\\ \\sigma_t^2 \\neq 1 $\n",
    "\n",
    "\n",
    "We perform a likelihood ratio test, where:\n",
    "- $\\ell_1$ is the log-likelihood under the full model\n",
    "- $\\ell_0$ is the log-likelihood under the restricted model\n",
    "\n",
    "The test statistic is:\n",
    "$\n",
    "\\Lambda = -2\\left( \\ell_0 - \\ell_1 \\right),\n",
    "$\n",
    "which asymptotically follows a chi-squared distribution:\n",
    "$\n",
    "\\Lambda \\sim \\chi^2_{2T-2},\n",
    "$\n",
    "where $T$ is the number of time periods. \\\n",
    "$ \\text{df} = 2T - 2 $, as there are extra $(T - 1)$ estimators for mean and $(T-1)$ estimators for variance"
   ]
  },
  {
   "cell_type": "code",
   "execution_count": 27,
   "id": "9eadba82",
   "metadata": {},
   "outputs": [
    {
     "data": {
      "text/plain": [
       "i     t  \n",
       "INCR  2      1.486949\n",
       "      3     -1.351996\n",
       "      4     -0.354267\n",
       "      5      0.050876\n",
       "      6      0.266373\n",
       "               ...   \n",
       "TEL   96     1.217870\n",
       "      97     1.107629\n",
       "      98     1.202717\n",
       "      99    -0.793659\n",
       "      100    0.462366\n",
       "Length: 393546, dtype: float64"
      ]
     },
     "execution_count": 27,
     "metadata": {},
     "output_type": "execute_result"
    }
   ],
   "source": [
    "beta = model.params['const']\n",
    "gamma = model.estimated_effects.groupby('t').mean()['estimated_effects']\n",
    "lambda_ = model.estimated_effects.groupby('i').mean()['estimated_effects']\n",
    "k, sigma = estimate_k_sigma(resids.reset_index(), silent=True)\n",
    "\n",
    "resids_unres = resids['resid'] / std_pred\n",
    "resids_unres = resids_unres[resids_unres.index.get_level_values(0).isin(LR_columns)]\n",
    "resids_unres"
   ]
  },
  {
   "cell_type": "code",
   "execution_count": 28,
   "id": "2186d62f",
   "metadata": {},
   "outputs": [
    {
     "data": {
      "text/plain": [
       "i     t  \n",
       "INCR  2      2.391991\n",
       "      3     -1.821200\n",
       "      4     -0.486339\n",
       "      5      0.025683\n",
       "      6      0.290522\n",
       "               ...   \n",
       "TEL   96     1.215140\n",
       "      97     1.090689\n",
       "      98     1.155059\n",
       "      99    -0.769434\n",
       "      100    0.374118\n",
       "Length: 393546, dtype: float64"
      ]
     },
     "execution_count": 28,
     "metadata": {},
     "output_type": "execute_result"
    }
   ],
   "source": [
    "model_res = PanelOLS(df['ret'], df[['const']], entity_effects=True, time_effects=False).fit()\n",
    "beta_res = model_res.params['const']\n",
    "lambda_res = model_res.estimated_effects.groupby('i').mean()['estimated_effects']\n",
    "k_res = resids_sq.reset_index().groupby('i')['Squared resid'].mean()\n",
    "\n",
    "resids_res = df['ret'] - model_res.estimated_effects['estimated_effects'] - model_res.fitted_values['fitted_values']\n",
    "resids_res = resids_res / np.sqrt(k_res)\n",
    "resids_res = resids_res[resids_res.index.get_level_values(0).isin(LR_columns)]\n",
    "resids_res"
   ]
  },
  {
   "cell_type": "code",
   "execution_count": 29,
   "id": "a8298a24",
   "metadata": {},
   "outputs": [],
   "source": [
    "def fit_df_student_t(residuals):\n",
    "    \"\"\"\n",
    "    Estimate degrees of freedom v for Student's t distribution via MLE\n",
    "    given 1D array of residuals.\n",
    "    \"\"\"\n",
    "    # negative log-likelihood\n",
    "    def nll(v):\n",
    "        if v <= 2:\n",
    "            return np.inf\n",
    "        return -np.sum(stats.t.logpdf(residuals, df=v, loc=0, scale=1))\n",
    "    # initial guess\n",
    "    result = minimize(nll, x0=5.0, bounds=[(2.1, 100)])\n",
    "    return result.x[0]\n",
    "\n",
    "\n",
    "def log_likelihood_student_t(residuals, v):\n",
    "    \"\"\"\n",
    "    Compute log-likelihood of residuals under Student's t with df=v.\n",
    "    Assumes zero mean and scale=1.\n",
    "    \"\"\"\n",
    "    return np.sum(stats.t.logpdf(residuals, df=v, loc=0, scale=1))\n",
    "\n",
    "\n",
    "def lr_test(unrestricted, restricted):\n",
    "\n",
    "    assets = unrestricted.index.get_level_values(0).unique()\n",
    "    times = unrestricted.index.get_level_values(1).unique()\n",
    "\n",
    "    df_diff = 2 * len(times) - 2\n",
    "\n",
    "    ll_unres = []\n",
    "    ll_res = []\n",
    "\n",
    "    for asset in tqdm(assets):\n",
    "        # get residuals per asset\n",
    "        res_u = unrestricted[unrestricted.index.get_level_values(0) == asset].values\n",
    "        res_r = restricted[restricted.index.get_level_values(0) == asset].values\n",
    "\n",
    "        # estimate v via MLE\n",
    "        v_u = fit_df_student_t(res_u)\n",
    "        v_r = fit_df_student_t(res_r)\n",
    "\n",
    "        # compute log-likelihoods\n",
    "        ll_u = log_likelihood_student_t(res_u, v_u)\n",
    "        ll_r = log_likelihood_student_t(res_r, v_r)\n",
    "\n",
    "        ll_unres.append(ll_u)\n",
    "        ll_res.append(ll_r)\n",
    "\n",
    "    # total log-likelihoods\n",
    "    LL_U = np.sum(ll_unres)\n",
    "    LL_R = np.sum(ll_res)\n",
    "\n",
    "    # LR statistic\n",
    "    LR = -2 * (LL_R - LL_U)\n",
    "\n",
    "     # compute p-value\n",
    "    p_value = 1 - stats.chi2.cdf(LR, df=df_diff)\n",
    "\n",
    "    return {'LR': LR, 'p_value': p_value}"
   ]
  },
  {
   "cell_type": "code",
   "execution_count": 30,
   "id": "a2ee1d0c",
   "metadata": {},
   "outputs": [
    {
     "ename": "NameError",
     "evalue": "name 'tqdm' is not defined",
     "output_type": "error",
     "traceback": [
      "\u001b[1;31m---------------------------------------------------------------------------\u001b[0m",
      "\u001b[1;31mNameError\u001b[0m                                 Traceback (most recent call last)",
      "Cell \u001b[1;32mIn[30], line 3\u001b[0m\n\u001b[0;32m      1\u001b[0m \u001b[38;5;66;03m### Takes a while to run\u001b[39;00m\n\u001b[1;32m----> 3\u001b[0m \u001b[43mlr_test\u001b[49m\u001b[43m(\u001b[49m\u001b[43mresids_unres\u001b[49m\u001b[43m,\u001b[49m\u001b[43m \u001b[49m\u001b[43mresids_res\u001b[49m\u001b[43m)\u001b[49m\n",
      "Cell \u001b[1;32mIn[29], line 34\u001b[0m, in \u001b[0;36mlr_test\u001b[1;34m(unrestricted, restricted)\u001b[0m\n\u001b[0;32m     31\u001b[0m ll_unres \u001b[38;5;241m=\u001b[39m []\n\u001b[0;32m     32\u001b[0m ll_res \u001b[38;5;241m=\u001b[39m []\n\u001b[1;32m---> 34\u001b[0m \u001b[38;5;28;01mfor\u001b[39;00m asset \u001b[38;5;129;01min\u001b[39;00m \u001b[43mtqdm\u001b[49m(assets):\n\u001b[0;32m     35\u001b[0m     \u001b[38;5;66;03m# get residuals per asset\u001b[39;00m\n\u001b[0;32m     36\u001b[0m     res_u \u001b[38;5;241m=\u001b[39m unrestricted[unrestricted\u001b[38;5;241m.\u001b[39mindex\u001b[38;5;241m.\u001b[39mget_level_values(\u001b[38;5;241m0\u001b[39m) \u001b[38;5;241m==\u001b[39m asset]\u001b[38;5;241m.\u001b[39mvalues\n\u001b[0;32m     37\u001b[0m     res_r \u001b[38;5;241m=\u001b[39m restricted[restricted\u001b[38;5;241m.\u001b[39mindex\u001b[38;5;241m.\u001b[39mget_level_values(\u001b[38;5;241m0\u001b[39m) \u001b[38;5;241m==\u001b[39m asset]\u001b[38;5;241m.\u001b[39mvalues\n",
      "\u001b[1;31mNameError\u001b[0m: name 'tqdm' is not defined"
     ]
    }
   ],
   "source": [
    "### Takes a while to run\n",
    "\n",
    "lr_test(resids_unres, resids_res)"
   ]
  },
  {
   "cell_type": "markdown",
   "id": "b8273402",
   "metadata": {},
   "source": [
    "Negative LR appears as coefficients were not obtained by minimising L, so not optimal in this context. However, with this number of parameters, the full panel optimization will never converge. \\\n",
    "Consider running LR test for each asset separately by fitting simple decay functions for time effects of mean and variance, which will be:\n",
    "\n",
    "### $ R_{it} = \\lambda_i + e^{-a_it + b_i} + u_{it} $ , $u_{it} \\sim \\text{Student}_{\\nu}(0, k_i \\times (1 + e^{-c_it + d_i}))$\n",
    "\n",
    "Against a restricted model:\n",
    "\n",
    "### $ R_{it} = \\lambda_i + u_{it} $ , $u_{it} \\sim \\text{Student}_{\\nu}(0, k_i)$"
   ]
  },
  {
   "cell_type": "code",
   "execution_count": null,
   "id": "6e580381",
   "metadata": {},
   "outputs": [
    {
     "name": "stderr",
     "output_type": "stream",
     "text": [
      "100%|██████████| 3977/3977 [10:35<00:00,  6.26it/s]\n"
     ]
    }
   ],
   "source": [
    "# Example function to fit unrestricted model per asset and compute LR test\n",
    "def fit_models_and_lr(df_asset):\n",
    "    # Prepare data\n",
    "    ret = df_asset['ret'].values\n",
    "    t_idx = df_asset['t'].values\n",
    "\n",
    "    # Unrestricted log-likelihood\n",
    "    def ll_uncon(params):\n",
    "        # params: lambda_i, a_i, b_i, nu, log_k_i, c_i, d_i\n",
    "        lam, a, b, nu, logk, c, d = params\n",
    "        k = np.exp(logk)\n",
    "        mu = lam + np.exp(-a * t_idx + b)\n",
    "        scale = np.sqrt(k * (1 + np.exp(-c * t_idx + d)))\n",
    "        return -np.sum(stats.t.logpdf(ret - mu, df=nu, loc=0, scale=scale))\n",
    "\n",
    "    # Restricted log-likelihood\n",
    "    def ll_rest(params):\n",
    "        # params: lambda_i, nu, log_k_i\n",
    "        lam, nu, logk = params\n",
    "        k = np.exp(logk)\n",
    "        mu = lam\n",
    "        scale = np.sqrt(k)\n",
    "        return -np.sum(stats.t.logpdf(ret - mu, df=nu, loc=0, scale=scale))\n",
    "\n",
    "    # Initial guesses\n",
    "    init_uncon = np.array([df_asset['ret'].mean(), 0.1, 0.0, 10.0, np.log(df_asset['ret'].std()), 0.1, 0.0])\n",
    "    init_rest = np.array([df_asset['ret'].mean(), 10.0, np.log(df_asset['ret'].std())])\n",
    "\n",
    "    # Fit models\n",
    "    res_uncon = minimize(ll_uncon, init_uncon, method='L-BFGS-B')\n",
    "    res_rest = minimize(ll_rest, init_rest, method='L-BFGS-B')\n",
    "\n",
    "    # Compute LR statistic\n",
    "    lr_stat = 2 * ( -res_uncon.fun + res_rest.fun )\n",
    "    p_value = 1 - stats.chi2.cdf(lr_stat, df=4) ### df = 4 as a_i, b_i, c_i, d_i are added in full model\n",
    "\n",
    "    # Collect results\n",
    "    results = {\n",
    "        'unrestricted_params': res_uncon.x,\n",
    "        'restricted_params': res_rest.x,\n",
    "        'lr_stat': lr_stat,\n",
    "        'p_value': p_value\n",
    "    }\n",
    "    return results\n",
    "\n",
    "\n",
    "results_list = []\n",
    "\n",
    "sample = df[(df.index.get_level_values(0).isin(LR_columns))][['ret']]\n",
    "sample = sample.reset_index()\n",
    "\n",
    "\n",
    "### Takes a while to run\n",
    "for asset, grp in tqdm(sample.groupby('i')):\n",
    "    try:\n",
    "        res = fit_models_and_lr(grp)\n",
    "        res['asset'] = asset\n",
    "        results_list.append(res)\n",
    "    except:\n",
    "        print(f\"Error processing asset {asset}\")\n",
    "        continue\n"
   ]
  },
  {
   "cell_type": "code",
   "execution_count": null,
   "id": "f0baec75",
   "metadata": {},
   "outputs": [
    {
     "data": {
      "text/html": [
       "<div>\n",
       "<style scoped>\n",
       "    .dataframe tbody tr th:only-of-type {\n",
       "        vertical-align: middle;\n",
       "    }\n",
       "\n",
       "    .dataframe tbody tr th {\n",
       "        vertical-align: top;\n",
       "    }\n",
       "\n",
       "    .dataframe thead th {\n",
       "        text-align: right;\n",
       "    }\n",
       "</style>\n",
       "<table border=\"1\" class=\"dataframe\">\n",
       "  <thead>\n",
       "    <tr style=\"text-align: right;\">\n",
       "      <th></th>\n",
       "      <th>lr_stat</th>\n",
       "      <th>p_value</th>\n",
       "      <th>λ</th>\n",
       "      <th>a</th>\n",
       "      <th>b</th>\n",
       "      <th>ν_u</th>\n",
       "      <th>log k_u</th>\n",
       "      <th>c</th>\n",
       "      <th>d</th>\n",
       "      <th>λ_r</th>\n",
       "      <th>ν_r</th>\n",
       "      <th>log k_r</th>\n",
       "    </tr>\n",
       "    <tr>\n",
       "      <th>asset</th>\n",
       "      <th></th>\n",
       "      <th></th>\n",
       "      <th></th>\n",
       "      <th></th>\n",
       "      <th></th>\n",
       "      <th></th>\n",
       "      <th></th>\n",
       "      <th></th>\n",
       "      <th></th>\n",
       "      <th></th>\n",
       "      <th></th>\n",
       "      <th></th>\n",
       "    </tr>\n",
       "  </thead>\n",
       "  <tbody>\n",
       "    <tr>\n",
       "      <th>A</th>\n",
       "      <td>1.413110</td>\n",
       "      <td>0.841913</td>\n",
       "      <td>0.004281</td>\n",
       "      <td>37.812974</td>\n",
       "      <td>-15.508450</td>\n",
       "      <td>7.801912</td>\n",
       "      <td>-5.975782</td>\n",
       "      <td>1.051285</td>\n",
       "      <td>3.472967</td>\n",
       "      <td>0.004454</td>\n",
       "      <td>10.018690</td>\n",
       "      <td>-5.869764</td>\n",
       "    </tr>\n",
       "    <tr>\n",
       "      <th>AA</th>\n",
       "      <td>-1.523728</td>\n",
       "      <td>1.000000</td>\n",
       "      <td>0.000021</td>\n",
       "      <td>4.763827</td>\n",
       "      <td>-0.947284</td>\n",
       "      <td>10.028016</td>\n",
       "      <td>-8.545861</td>\n",
       "      <td>2.141299</td>\n",
       "      <td>-0.035018</td>\n",
       "      <td>0.000103</td>\n",
       "      <td>1174.824821</td>\n",
       "      <td>-8.379525</td>\n",
       "    </tr>\n",
       "    <tr>\n",
       "      <th>AACG</th>\n",
       "      <td>0.002738</td>\n",
       "      <td>0.999999</td>\n",
       "      <td>0.003277</td>\n",
       "      <td>3.804880</td>\n",
       "      <td>-1.078518</td>\n",
       "      <td>1.618389</td>\n",
       "      <td>-7.807804</td>\n",
       "      <td>1.833119</td>\n",
       "      <td>-0.049396</td>\n",
       "      <td>0.003273</td>\n",
       "      <td>1.618804</td>\n",
       "      <td>-7.807232</td>\n",
       "    </tr>\n",
       "    <tr>\n",
       "      <th>AADI</th>\n",
       "      <td>-0.000093</td>\n",
       "      <td>1.000000</td>\n",
       "      <td>-0.003347</td>\n",
       "      <td>8.254473</td>\n",
       "      <td>-2.603473</td>\n",
       "      <td>1.979226</td>\n",
       "      <td>-7.626372</td>\n",
       "      <td>3.593167</td>\n",
       "      <td>-0.212274</td>\n",
       "      <td>-0.003347</td>\n",
       "      <td>1.979255</td>\n",
       "      <td>-7.626349</td>\n",
       "    </tr>\n",
       "    <tr>\n",
       "      <th>AAGR</th>\n",
       "      <td>NaN</td>\n",
       "      <td>NaN</td>\n",
       "      <td>-0.000350</td>\n",
       "      <td>8.613850</td>\n",
       "      <td>-1.924524</td>\n",
       "      <td>10.023844</td>\n",
       "      <td>-11.553722</td>\n",
       "      <td>2.690420</td>\n",
       "      <td>0.003383</td>\n",
       "      <td>0.000232</td>\n",
       "      <td>2.049588</td>\n",
       "      <td>-12.806956</td>\n",
       "    </tr>\n",
       "    <tr>\n",
       "      <th>...</th>\n",
       "      <td>...</td>\n",
       "      <td>...</td>\n",
       "      <td>...</td>\n",
       "      <td>...</td>\n",
       "      <td>...</td>\n",
       "      <td>...</td>\n",
       "      <td>...</td>\n",
       "      <td>...</td>\n",
       "      <td>...</td>\n",
       "      <td>...</td>\n",
       "      <td>...</td>\n",
       "      <td>...</td>\n",
       "    </tr>\n",
       "    <tr>\n",
       "      <th>ZVIA</th>\n",
       "      <td>0.027181</td>\n",
       "      <td>0.999908</td>\n",
       "      <td>-0.004029</td>\n",
       "      <td>56.617934</td>\n",
       "      <td>42.744877</td>\n",
       "      <td>947.423475</td>\n",
       "      <td>-5.920097</td>\n",
       "      <td>817.725933</td>\n",
       "      <td>-322.632129</td>\n",
       "      <td>-0.004045</td>\n",
       "      <td>104.237232</td>\n",
       "      <td>-5.933426</td>\n",
       "    </tr>\n",
       "    <tr>\n",
       "      <th>ZVRA</th>\n",
       "      <td>-0.000352</td>\n",
       "      <td>1.000000</td>\n",
       "      <td>0.002155</td>\n",
       "      <td>6.185191</td>\n",
       "      <td>-1.602546</td>\n",
       "      <td>3.476102</td>\n",
       "      <td>-7.248624</td>\n",
       "      <td>3.749721</td>\n",
       "      <td>-0.341282</td>\n",
       "      <td>0.002155</td>\n",
       "      <td>3.476074</td>\n",
       "      <td>-7.248618</td>\n",
       "    </tr>\n",
       "    <tr>\n",
       "      <th>ZWS</th>\n",
       "      <td>9.773997</td>\n",
       "      <td>0.044412</td>\n",
       "      <td>-0.001634</td>\n",
       "      <td>1.002368</td>\n",
       "      <td>-0.837341</td>\n",
       "      <td>3.644264</td>\n",
       "      <td>-8.479276</td>\n",
       "      <td>3.190059</td>\n",
       "      <td>-0.062735</td>\n",
       "      <td>-0.001124</td>\n",
       "      <td>3.503393</td>\n",
       "      <td>-8.404848</td>\n",
       "    </tr>\n",
       "    <tr>\n",
       "      <th>ZYME</th>\n",
       "      <td>0.366069</td>\n",
       "      <td>0.985159</td>\n",
       "      <td>-0.008275</td>\n",
       "      <td>1.857389</td>\n",
       "      <td>-0.410827</td>\n",
       "      <td>3.471867</td>\n",
       "      <td>-7.167006</td>\n",
       "      <td>2.470958</td>\n",
       "      <td>-0.316025</td>\n",
       "      <td>-0.007876</td>\n",
       "      <td>3.610517</td>\n",
       "      <td>-7.139016</td>\n",
       "    </tr>\n",
       "    <tr>\n",
       "      <th>ZYXI</th>\n",
       "      <td>-0.900568</td>\n",
       "      <td>1.000000</td>\n",
       "      <td>-0.007676</td>\n",
       "      <td>1.810251</td>\n",
       "      <td>-0.215180</td>\n",
       "      <td>9.720052</td>\n",
       "      <td>-6.269915</td>\n",
       "      <td>1.670418</td>\n",
       "      <td>-0.128752</td>\n",
       "      <td>-0.005154</td>\n",
       "      <td>4.200663</td>\n",
       "      <td>-6.540949</td>\n",
       "    </tr>\n",
       "  </tbody>\n",
       "</table>\n",
       "<p>3977 rows × 12 columns</p>\n",
       "</div>"
      ],
      "text/plain": [
       "        lr_stat   p_value         λ          a          b         ν_u  \\\n",
       "asset                                                                   \n",
       "A      1.413110  0.841913  0.004281  37.812974 -15.508450    7.801912   \n",
       "AA    -1.523728  1.000000  0.000021   4.763827  -0.947284   10.028016   \n",
       "AACG   0.002738  0.999999  0.003277   3.804880  -1.078518    1.618389   \n",
       "AADI  -0.000093  1.000000 -0.003347   8.254473  -2.603473    1.979226   \n",
       "AAGR        NaN       NaN -0.000350   8.613850  -1.924524   10.023844   \n",
       "...         ...       ...       ...        ...        ...         ...   \n",
       "ZVIA   0.027181  0.999908 -0.004029  56.617934  42.744877  947.423475   \n",
       "ZVRA  -0.000352  1.000000  0.002155   6.185191  -1.602546    3.476102   \n",
       "ZWS    9.773997  0.044412 -0.001634   1.002368  -0.837341    3.644264   \n",
       "ZYME   0.366069  0.985159 -0.008275   1.857389  -0.410827    3.471867   \n",
       "ZYXI  -0.900568  1.000000 -0.007676   1.810251  -0.215180    9.720052   \n",
       "\n",
       "         log k_u           c           d       λ_r          ν_r    log k_r  \n",
       "asset                                                                       \n",
       "A      -5.975782    1.051285    3.472967  0.004454    10.018690  -5.869764  \n",
       "AA     -8.545861    2.141299   -0.035018  0.000103  1174.824821  -8.379525  \n",
       "AACG   -7.807804    1.833119   -0.049396  0.003273     1.618804  -7.807232  \n",
       "AADI   -7.626372    3.593167   -0.212274 -0.003347     1.979255  -7.626349  \n",
       "AAGR  -11.553722    2.690420    0.003383  0.000232     2.049588 -12.806956  \n",
       "...          ...         ...         ...       ...          ...        ...  \n",
       "ZVIA   -5.920097  817.725933 -322.632129 -0.004045   104.237232  -5.933426  \n",
       "ZVRA   -7.248624    3.749721   -0.341282  0.002155     3.476074  -7.248618  \n",
       "ZWS    -8.479276    3.190059   -0.062735 -0.001124     3.503393  -8.404848  \n",
       "ZYME   -7.167006    2.470958   -0.316025 -0.007876     3.610517  -7.139016  \n",
       "ZYXI   -6.269915    1.670418   -0.128752 -0.005154     4.200663  -6.540949  \n",
       "\n",
       "[3977 rows x 12 columns]"
      ]
     },
     "execution_count": 112,
     "metadata": {},
     "output_type": "execute_result"
    }
   ],
   "source": [
    "# 1. Turn the list into a “wide” DataFrame:\n",
    "results_df = pd.DataFrame(results_list)\n",
    "\n",
    "# 2. Expand the unrestricted_params array into 7 named columns:\n",
    "unres_cols = ['λ', 'a', 'b', 'ν_u', 'log k_u', 'c', 'd']\n",
    "unres_df = pd.DataFrame(results_df['unrestricted_params'].tolist(), columns=unres_cols)\n",
    "\n",
    "# 3. Expand the restricted_params array into 3 named columns:\n",
    "res_cols = ['λ_r', 'ν_r', 'log k_r']\n",
    "res_df = pd.DataFrame(results_df['restricted_params'].tolist(), columns=res_cols)\n",
    "\n",
    "# 4. Concatenate everything:\n",
    "lr_df = pd.concat([results_df.drop(['unrestricted_params','restricted_params'], axis=1),\n",
    "                      unres_df, res_df], axis=1)\n",
    "\n",
    "lr_df = lr_df.set_index('asset')\n",
    "lr_df"
   ]
  },
  {
   "cell_type": "code",
   "execution_count": null,
   "id": "15795dff",
   "metadata": {},
   "outputs": [
    {
     "name": "stdout",
     "output_type": "stream",
     "text": [
      "share of assets with significant time effects: 0.0792\n"
     ]
    }
   ],
   "source": [
    "print(\"share of assets with significant time effects:\", round(lr_df[lr_df['p_value'] < 0.05].shape[0] / len(lr_df), 4))"
   ]
  },
  {
   "cell_type": "markdown",
   "id": "490809b7",
   "metadata": {},
   "source": [
    "Time effects are only significant for ~8% of assets in the subsample."
   ]
  }
 ],
 "metadata": {
  "kernelspec": {
   "display_name": "Python 3",
   "language": "python",
   "name": "python3"
  },
  "language_info": {
   "codemirror_mode": {
    "name": "ipython",
    "version": 3
   },
   "file_extension": ".py",
   "mimetype": "text/x-python",
   "name": "python",
   "nbconvert_exporter": "python",
   "pygments_lexer": "ipython3",
   "version": "3.11.9"
  }
 },
 "nbformat": 4,
 "nbformat_minor": 5
}
